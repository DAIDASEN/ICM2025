{
 "cells": [
  {
   "cell_type": "code",
   "id": "initial_id",
   "metadata": {
    "collapsed": true,
    "ExecuteTime": {
     "end_time": "2025-01-25T14:40:29.381154Z",
     "start_time": "2025-01-25T14:40:28.167318Z"
    }
   },
   "source": [
    "import pandas as pd\n",
    "\n",
    "# 示例数据加载（假设您的数据列包含Year, NOC, Gold, Silver, Bronze, Total）\n",
    "# 替换为实际数据路径\n",
    "df = pd.read_csv(\"NEW_MEDAL_TABLE_WITH_PARTICIPANTS.csv\")\n",
    "\n",
    "# 1. 过滤战争年份（1916, 1940, 1944未举办奥运会）\n",
    "valid_years = sorted([year for year in df['Year'].unique() if year not in {1916, 1940, 1944}])\n",
    "\n",
    "# 2. 生成时间窗口：连续三届预测下一届\n",
    "windows = []\n",
    "for i in range(len(valid_years) - 3):\n",
    "    window_years = valid_years[i:i+3]\n",
    "    target_year = valid_years[i+3]\n",
    "    windows.append((window_years, target_year))\n",
    "\n",
    "# 3. 构建特征与目标数据集\n",
    "features, targets, nocs, target_years = [], [], [], []\n",
    "for window, target_year in windows:\n",
    "    # 获取在窗口和预测年均存在的国家\n",
    "    countries_in_window = df[df['Year'].isin(window)]['NOC'].unique()\n",
    "    countries_in_target = df[df['Year'] == target_year]['NOC'].unique()\n",
    "    valid_nocs = list(set(countries_in_window) & set(countries_in_target))\n",
    "\n",
    "    for noc in valid_nocs:\n",
    "        # 提取三届数据（按时间排序）\n",
    "        window_data = df[(df['NOC'] == noc) & (df['Year'].isin(window))]\n",
    "        window_data = window_data.sort_values('Year').tail(3)  # 确保取最近三届\n",
    "\n",
    "        # 检查数据完整性\n",
    "        if len(window_data) != 3 or window_data['Year'].nunique() != 3:\n",
    "            continue\n",
    "\n",
    "        # 构建特征：三届的奖牌数平铺\n",
    "        feat = []\n",
    "        for _, row in window_data.iterrows():\n",
    "            feat.extend([row['Gold'], row['Silver'], row['Bronze']])\n",
    "\n",
    "        # 提取目标值\n",
    "        target_value = df[(df['NOC'] == noc) & (df['Year'] == target_year)]['Total'].values[0]\n",
    "\n",
    "        # 存储结果\n",
    "        features.append(feat)\n",
    "        targets.append(target_value)\n",
    "        nocs.append(noc)\n",
    "        target_years.append(target_year)\n",
    "\n",
    "# 4. 转换为DataFrame\n",
    "feature_cols = [f\"{medal}_{i+1}\" for i in range(3) for medal in ['Gold', 'Silver', 'Bronze']]\n",
    "final_df = pd.DataFrame(features, columns=feature_cols)\n",
    "final_df['NOC'] = nocs\n",
    "final_df['Target_Year'] = target_years\n",
    "final_df['Total_Medals_Target'] = targets\n",
    "\n",
    "print(final_df.head())"
   ],
   "outputs": [
    {
     "name": "stdout",
     "output_type": "stream",
     "text": [
      "   Gold_1  Silver_1  Bronze_1  Gold_2  Silver_2  Bronze_2  Gold_3  Silver_3  \\\n",
      "0       2         0         0       2         0         3       0         3   \n",
      "1       2         3         2      15         7         9       1         1   \n",
      "2       5         4         2      27        39        37       0         1   \n",
      "3      11         7         2      19        14        15      76        78   \n",
      "4       2         1         2       0         3         3       1         1   \n",
      "\n",
      "   Bronze_3  NOC  Target_Year  Total_Medals_Target  \n",
      "0         1  AUS         1908                    5  \n",
      "1         0  GBR         1908                  146  \n",
      "2         0  FRA         1908                   19  \n",
      "3        77  USA         1908                   47  \n",
      "4         1  AUT         1908                    1  \n"
     ]
    }
   ],
   "execution_count": 1
  }
 ],
 "metadata": {
  "kernelspec": {
   "display_name": "Python 3",
   "language": "python",
   "name": "python3"
  },
  "language_info": {
   "codemirror_mode": {
    "name": "ipython",
    "version": 2
   },
   "file_extension": ".py",
   "mimetype": "text/x-python",
   "name": "python",
   "nbconvert_exporter": "python",
   "pygments_lexer": "ipython2",
   "version": "2.7.6"
  }
 },
 "nbformat": 4,
 "nbformat_minor": 5
}
