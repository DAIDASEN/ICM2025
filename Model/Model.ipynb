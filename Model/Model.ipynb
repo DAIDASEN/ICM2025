{
 "cells": [
  {
   "cell_type": "code",
   "id": "initial_id",
   "metadata": {
    "collapsed": true,
    "ExecuteTime": {
     "end_time": "2025-01-26T18:03:27.998438Z",
     "start_time": "2025-01-26T18:03:27.987374Z"
    }
   },
   "source": [
    "import pandas as pd\n",
    "import numpy as np\n",
    "from sklearn.preprocessing import StandardScaler, OneHotEncoder\n",
    "from sklearn.cluster import KMeans\n",
    "from sklearn.linear_model import Lasso\n",
    "from sklearn.model_selection import train_test_split\n",
    "from sklearn.metrics import mean_absolute_error\n",
    "\n",
    "# 加载数据\n",
    "data = pd.read_csv('../complete_data.csv')\n",
    "\n",
    "# 处理缺失值（如果有）\n",
    "data.fillna(0, inplace=True)\n",
    "\n",
    "# 特征和标签\n",
    "X = data[['Year', 'Bronze', 'Gold', 'Silver', 'Participants', 'Events', 'is_host', 'Total']]\n",
    "y = data['Total']\n",
    "\n",
    "# 标准化特征\n",
    "scaler = StandardScaler()\n",
    "X_scaled = scaler.fit_transform(X)"
   ],
   "outputs": [],
   "execution_count": 7
  },
  {
   "metadata": {
    "ExecuteTime": {
     "end_time": "2025-01-26T18:02:33.538349Z",
     "start_time": "2025-01-26T18:02:33.153516Z"
    }
   },
   "cell_type": "code",
   "source": [
    "# 选择用于聚类的特征\n",
    "cluster_features = ['Bronze', 'Gold', 'Silver', 'Participants', 'Events']\n",
    "\n",
    "# 标准化聚类特征\n",
    "X_cluster = data[cluster_features]\n",
    "X_cluster_scaled = scaler.fit_transform(X_cluster)\n",
    "\n",
    "# 使用K-means进行聚类\n",
    "kmeans = KMeans(n_clusters=3, random_state=42)\n",
    "data['Cluster'] = kmeans.fit_predict(X_cluster_scaled)\n",
    "\n",
    "# 查看聚类结果\n",
    "print(data['Cluster'].value_counts())"
   ],
   "id": "6a30403d93828684",
   "outputs": [
    {
     "name": "stdout",
     "output_type": "stream",
     "text": [
      "Cluster\n",
      "0    7012\n",
      "2     635\n",
      "1      75\n",
      "Name: count, dtype: int64\n"
     ]
    }
   ],
   "execution_count": 5
  },
  {
   "metadata": {
    "ExecuteTime": {
     "end_time": "2025-01-26T18:02:41.829331Z",
     "start_time": "2025-01-26T18:02:41.815337Z"
    }
   },
   "cell_type": "code",
   "source": [
    "# 将聚类标签转换为独热编码\n",
    "encoder = OneHotEncoder(sparse=False)\n",
    "cluster_encoded = encoder.fit_transform(data[['Cluster']])\n",
    "\n",
    "# 添加独热编码后的聚类标签到特征集\n",
    "X_scaled = np.hstack((X_scaled, cluster_encoded))\n",
    "\n",
    "# 添加交互特征（例如：Participants * Cluster）\n",
    "for i in range(cluster_encoded.shape[1]):\n",
    "    X_scaled = np.hstack((X_scaled, X_scaled[:, 4].reshape(-1, 1) * cluster_encoded[:, i].reshape(-1, 1)))\n",
    "\n",
    "# 添加东道主奖励项\n",
    "X_scaled = np.hstack((X_scaled, X_scaled[:, 6].reshape(-1, 1) * 0.3))"
   ],
   "id": "4c7294fa1ac2db7b",
   "outputs": [
    {
     "ename": "TypeError",
     "evalue": "OneHotEncoder.__init__() got an unexpected keyword argument 'sparse'",
     "output_type": "error",
     "traceback": [
      "\u001B[1;31m---------------------------------------------------------------------------\u001B[0m",
      "\u001B[1;31mTypeError\u001B[0m                                 Traceback (most recent call last)",
      "Cell \u001B[1;32mIn[6], line 2\u001B[0m\n\u001B[0;32m      1\u001B[0m \u001B[38;5;66;03m# 将聚类标签转换为独热编码\u001B[39;00m\n\u001B[1;32m----> 2\u001B[0m encoder \u001B[38;5;241m=\u001B[39m \u001B[43mOneHotEncoder\u001B[49m\u001B[43m(\u001B[49m\u001B[43msparse\u001B[49m\u001B[38;5;241;43m=\u001B[39;49m\u001B[38;5;28;43;01mFalse\u001B[39;49;00m\u001B[43m)\u001B[49m\n\u001B[0;32m      3\u001B[0m cluster_encoded \u001B[38;5;241m=\u001B[39m encoder\u001B[38;5;241m.\u001B[39mfit_transform(data[[\u001B[38;5;124m'\u001B[39m\u001B[38;5;124mCluster\u001B[39m\u001B[38;5;124m'\u001B[39m]])\n\u001B[0;32m      5\u001B[0m \u001B[38;5;66;03m# 添加独热编码后的聚类标签到特征集\u001B[39;00m\n",
      "\u001B[1;31mTypeError\u001B[0m: OneHotEncoder.__init__() got an unexpected keyword argument 'sparse'"
     ]
    }
   ],
   "execution_count": 6
  }
 ],
 "metadata": {
  "kernelspec": {
   "display_name": "Python 3",
   "language": "python",
   "name": "python3"
  },
  "language_info": {
   "codemirror_mode": {
    "name": "ipython",
    "version": 2
   },
   "file_extension": ".py",
   "mimetype": "text/x-python",
   "name": "python",
   "nbconvert_exporter": "python",
   "pygments_lexer": "ipython2",
   "version": "2.7.6"
  }
 },
 "nbformat": 4,
 "nbformat_minor": 5
}
