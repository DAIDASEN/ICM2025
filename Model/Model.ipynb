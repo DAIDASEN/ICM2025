{
 "cells": [
  {
   "cell_type": "code",
   "id": "initial_id",
   "metadata": {
    "collapsed": true,
    "ExecuteTime": {
     "end_time": "2025-01-26T20:22:14.345161Z",
     "start_time": "2025-01-26T20:22:14.340395Z"
    }
   },
   "source": [
    "import pandas as pd\n",
    "import numpy as np\n",
    "from scipy.spatial.distance import cdist  # 关键导入修复\n",
    "from scipy.cluster.hierarchy import dendrogram, linkage, fcluster\n",
    "from sklearn.preprocessing import StandardScaler\n",
    "from sklearn.linear_model import Lasso\n",
    "from sklearn.ensemble import RandomForestRegressor\n",
    "from sklearn.metrics import mean_absolute_error"
   ],
   "outputs": [],
   "execution_count": 33
  },
  {
   "metadata": {
    "ExecuteTime": {
     "end_time": "2025-01-26T20:22:15.916491Z",
     "start_time": "2025-01-26T20:22:15.904117Z"
    }
   },
   "cell_type": "code",
   "source": [
    "df = pd.read_csv(\"../complete_data.csv\")\n",
    "\n",
    "# 划分时间序列数据集\n",
    "train_df = df[df['Year'] < 2024]  # 训练集：2024年前数据\n",
    "test_df = df[df['Year'] == 2024]   # 测试集：预测2024年"
   ],
   "id": "6a30403d93828684",
   "outputs": [],
   "execution_count": 34
  },
  {
   "metadata": {
    "ExecuteTime": {
     "end_time": "2025-01-26T20:22:26.658790Z",
     "start_time": "2025-01-26T20:22:26.645835Z"
    }
   },
   "cell_type": "code",
   "source": [
    "country_features_train = train_df.groupby('NOC').agg({\n",
    "    'Total': ['sum', 'mean', 'std'],\n",
    "    'Participants': 'mean',\n",
    "    'is_host': 'sum'\n",
    "}).reset_index()\n",
    "\n",
    "# 处理列名和类型转换\n",
    "country_features_train.columns = [\n",
    "    'NOC', 'Total_sum', 'Total_mean', 'Total_std',\n",
    "    'Participants_mean', 'is_host_sum'\n",
    "]\n",
    "country_features_train = country_features_train.astype({\n",
    "    'Total_sum': 'float64',\n",
    "    'Total_mean': 'float64',\n",
    "    'Total_std': 'float64',\n",
    "    'Participants_mean': 'float64',\n",
    "    'is_host_sum': 'int64'  # 明确转为整数\n",
    "})\n",
    "country_features_train.fillna(0, inplace=True)"
   ],
   "id": "4c7294fa1ac2db7b",
   "outputs": [],
   "execution_count": 36
  },
  {
   "metadata": {
    "ExecuteTime": {
     "end_time": "2025-01-26T20:22:36.060449Z",
     "start_time": "2025-01-26T20:22:36.051663Z"
    }
   },
   "cell_type": "code",
   "source": [
    "# 标准化聚类特征\n",
    "scaler_cluster = StandardScaler()\n",
    "X_cluster_train = scaler_cluster.fit_transform(\n",
    "    country_features_train.drop('NOC', axis=1)\n",
    ")\n",
    "\n",
    "# 自动选择聚类数（示例固定为3，实际可用轮廓系数优化）\n",
    "Z = linkage(X_cluster_train, method='ward')\n",
    "clusters = fcluster(Z, t=3, criterion='maxclust')\n",
    "country_features_train['cluster'] = clusters\n",
    "\n",
    "# 合并聚类标签到训练集\n",
    "train_df = train_df.merge(\n",
    "    country_features_train[['NOC', 'cluster']],\n",
    "    on='NOC',\n",
    "    how='left'\n",
    ")"
   ],
   "id": "518c4fb72686ed98",
   "outputs": [],
   "execution_count": 37
  },
  {
   "metadata": {
    "ExecuteTime": {
     "end_time": "2025-01-26T20:22:50.073027Z",
     "start_time": "2025-01-26T20:22:50.054875Z"
    }
   },
   "cell_type": "code",
   "source": [
    "# 标准化聚类特征\n",
    "scaler_cluster = StandardScaler()\n",
    "X_cluster_train = scaler_cluster.fit_transform(\n",
    "    country_features_train.drop('NOC', axis=1)\n",
    ")\n",
    "\n",
    "# 自动选择聚类数（示例固定为3，实际可用轮廓系数优化）\n",
    "Z = linkage(X_cluster_train, method='ward')\n",
    "clusters = fcluster(Z, t=3, criterion='maxclust')\n",
    "country_features_train['cluster'] = clusters\n",
    "\n",
    "# 合并聚类标签到训练集\n",
    "train_df = train_df.merge(\n",
    "    country_features_train[['NOC', 'cluster']],\n",
    "    on='NOC',\n",
    "    how='left'\n",
    ")"
   ],
   "id": "a10a0f7a5b1e7493",
   "outputs": [],
   "execution_count": 38
  },
  {
   "metadata": {
    "ExecuteTime": {
     "end_time": "2025-01-26T20:23:00.218566Z",
     "start_time": "2025-01-26T20:23:00.198254Z"
    }
   },
   "cell_type": "code",
   "source": [
    "# 标准化聚类特征\n",
    "scaler_cluster = StandardScaler()\n",
    "X_cluster_train = scaler_cluster.fit_transform(\n",
    "    country_features_train.drop('NOC', axis=1)\n",
    ")\n",
    "\n",
    "# 自动选择聚类数（示例固定为3，实际可用轮廓系数优化）\n",
    "Z = linkage(X_cluster_train, method='ward')\n",
    "clusters = fcluster(Z, t=3, criterion='maxclust')\n",
    "country_features_train['cluster'] = clusters\n",
    "\n",
    "# 合并聚类标签到训练集\n",
    "train_df = train_df.merge(\n",
    "    country_features_train[['NOC', 'cluster']],\n",
    "    on='NOC',\n",
    "    how='left'\n",
    ")"
   ],
   "id": "7fb715ce1ffa3d8e",
   "outputs": [],
   "execution_count": 39
  },
  {
   "metadata": {
    "ExecuteTime": {
     "end_time": "2025-01-26T20:23:14.094498Z",
     "start_time": "2025-01-26T20:23:14.088977Z"
    }
   },
   "cell_type": "code",
   "source": [
    "def predict_row(row):\n",
    "    cluster_id = row['cluster']\n",
    "    if pd.isna(cluster_id) or cluster_id not in models:\n",
    "        return 0.0  # 处理未知聚类\n",
    "    model = models[cluster_id]\n",
    "    scaler = scalers[cluster_id]\n",
    "    X_row = scaler.transform([[\n",
    "        row['Year'],\n",
    "        row['Participants'],\n",
    "        row['Events'],\n",
    "        row['is_host']\n",
    "    ]])\n",
    "    return model.predict(X_row)[0]\n"
   ],
   "id": "be40cf48f37d45ed",
   "outputs": [],
   "execution_count": 40
  },
  {
   "metadata": {
    "ExecuteTime": {
     "end_time": "2025-01-26T20:25:29.932194Z",
     "start_time": "2025-01-26T20:25:29.879245Z"
    }
   },
   "cell_type": "code",
   "source": [
    "# 合并聚类标签到测试集\n",
    "test_df = test_df.merge(\n",
    "    test_country_features[['NOC', 'cluster']],\n",
    "    on='NOC',\n",
    "    how='left'\n",
    ")\n",
    "\n",
    "# 检查测试集是否包含cluster列\n",
    "print(\"测试集列名:\", test_df.columns.tolist())"
   ],
   "id": "4822fff0216132f8",
   "outputs": [
    {
     "ename": "KeyError",
     "evalue": "\"['cluster'] not in index\"",
     "output_type": "error",
     "traceback": [
      "\u001B[1;31m---------------------------------------------------------------------------\u001B[0m",
      "\u001B[1;31mKeyError\u001B[0m                                  Traceback (most recent call last)",
      "Cell \u001B[1;32mIn[42], line 3\u001B[0m\n\u001B[0;32m      1\u001B[0m \u001B[38;5;66;03m# 合并聚类标签到测试集\u001B[39;00m\n\u001B[0;32m      2\u001B[0m test_df \u001B[38;5;241m=\u001B[39m test_df\u001B[38;5;241m.\u001B[39mmerge(\n\u001B[1;32m----> 3\u001B[0m     \u001B[43mtest_country_features\u001B[49m\u001B[43m[\u001B[49m\u001B[43m[\u001B[49m\u001B[38;5;124;43m'\u001B[39;49m\u001B[38;5;124;43mNOC\u001B[39;49m\u001B[38;5;124;43m'\u001B[39;49m\u001B[43m,\u001B[49m\u001B[43m \u001B[49m\u001B[38;5;124;43m'\u001B[39;49m\u001B[38;5;124;43mcluster\u001B[39;49m\u001B[38;5;124;43m'\u001B[39;49m\u001B[43m]\u001B[49m\u001B[43m]\u001B[49m,\n\u001B[0;32m      4\u001B[0m     on\u001B[38;5;241m=\u001B[39m\u001B[38;5;124m'\u001B[39m\u001B[38;5;124mNOC\u001B[39m\u001B[38;5;124m'\u001B[39m,\n\u001B[0;32m      5\u001B[0m     how\u001B[38;5;241m=\u001B[39m\u001B[38;5;124m'\u001B[39m\u001B[38;5;124mleft\u001B[39m\u001B[38;5;124m'\u001B[39m\n\u001B[0;32m      6\u001B[0m )\n\u001B[0;32m      8\u001B[0m \u001B[38;5;66;03m# 检查测试集是否包含cluster列\u001B[39;00m\n\u001B[0;32m      9\u001B[0m \u001B[38;5;28mprint\u001B[39m(\u001B[38;5;124m\"\u001B[39m\u001B[38;5;124m测试集列名:\u001B[39m\u001B[38;5;124m\"\u001B[39m, test_df\u001B[38;5;241m.\u001B[39mcolumns\u001B[38;5;241m.\u001B[39mtolist())\n",
      "File \u001B[1;32mC:\\anaconda\\envs\\CSCI3230\\ICM2025\\Lib\\site-packages\\pandas\\core\\frame.py:4108\u001B[0m, in \u001B[0;36mDataFrame.__getitem__\u001B[1;34m(self, key)\u001B[0m\n\u001B[0;32m   4106\u001B[0m     \u001B[38;5;28;01mif\u001B[39;00m is_iterator(key):\n\u001B[0;32m   4107\u001B[0m         key \u001B[38;5;241m=\u001B[39m \u001B[38;5;28mlist\u001B[39m(key)\n\u001B[1;32m-> 4108\u001B[0m     indexer \u001B[38;5;241m=\u001B[39m \u001B[38;5;28;43mself\u001B[39;49m\u001B[38;5;241;43m.\u001B[39;49m\u001B[43mcolumns\u001B[49m\u001B[38;5;241;43m.\u001B[39;49m\u001B[43m_get_indexer_strict\u001B[49m\u001B[43m(\u001B[49m\u001B[43mkey\u001B[49m\u001B[43m,\u001B[49m\u001B[43m \u001B[49m\u001B[38;5;124;43m\"\u001B[39;49m\u001B[38;5;124;43mcolumns\u001B[39;49m\u001B[38;5;124;43m\"\u001B[39;49m\u001B[43m)\u001B[49m[\u001B[38;5;241m1\u001B[39m]\n\u001B[0;32m   4110\u001B[0m \u001B[38;5;66;03m# take() does not accept boolean indexers\u001B[39;00m\n\u001B[0;32m   4111\u001B[0m \u001B[38;5;28;01mif\u001B[39;00m \u001B[38;5;28mgetattr\u001B[39m(indexer, \u001B[38;5;124m\"\u001B[39m\u001B[38;5;124mdtype\u001B[39m\u001B[38;5;124m\"\u001B[39m, \u001B[38;5;28;01mNone\u001B[39;00m) \u001B[38;5;241m==\u001B[39m \u001B[38;5;28mbool\u001B[39m:\n",
      "File \u001B[1;32mC:\\anaconda\\envs\\CSCI3230\\ICM2025\\Lib\\site-packages\\pandas\\core\\indexes\\base.py:6200\u001B[0m, in \u001B[0;36mIndex._get_indexer_strict\u001B[1;34m(self, key, axis_name)\u001B[0m\n\u001B[0;32m   6197\u001B[0m \u001B[38;5;28;01melse\u001B[39;00m:\n\u001B[0;32m   6198\u001B[0m     keyarr, indexer, new_indexer \u001B[38;5;241m=\u001B[39m \u001B[38;5;28mself\u001B[39m\u001B[38;5;241m.\u001B[39m_reindex_non_unique(keyarr)\n\u001B[1;32m-> 6200\u001B[0m \u001B[38;5;28;43mself\u001B[39;49m\u001B[38;5;241;43m.\u001B[39;49m\u001B[43m_raise_if_missing\u001B[49m\u001B[43m(\u001B[49m\u001B[43mkeyarr\u001B[49m\u001B[43m,\u001B[49m\u001B[43m \u001B[49m\u001B[43mindexer\u001B[49m\u001B[43m,\u001B[49m\u001B[43m \u001B[49m\u001B[43maxis_name\u001B[49m\u001B[43m)\u001B[49m\n\u001B[0;32m   6202\u001B[0m keyarr \u001B[38;5;241m=\u001B[39m \u001B[38;5;28mself\u001B[39m\u001B[38;5;241m.\u001B[39mtake(indexer)\n\u001B[0;32m   6203\u001B[0m \u001B[38;5;28;01mif\u001B[39;00m \u001B[38;5;28misinstance\u001B[39m(key, Index):\n\u001B[0;32m   6204\u001B[0m     \u001B[38;5;66;03m# GH 42790 - Preserve name from an Index\u001B[39;00m\n",
      "File \u001B[1;32mC:\\anaconda\\envs\\CSCI3230\\ICM2025\\Lib\\site-packages\\pandas\\core\\indexes\\base.py:6252\u001B[0m, in \u001B[0;36mIndex._raise_if_missing\u001B[1;34m(self, key, indexer, axis_name)\u001B[0m\n\u001B[0;32m   6249\u001B[0m     \u001B[38;5;28;01mraise\u001B[39;00m \u001B[38;5;167;01mKeyError\u001B[39;00m(\u001B[38;5;124mf\u001B[39m\u001B[38;5;124m\"\u001B[39m\u001B[38;5;124mNone of [\u001B[39m\u001B[38;5;132;01m{\u001B[39;00mkey\u001B[38;5;132;01m}\u001B[39;00m\u001B[38;5;124m] are in the [\u001B[39m\u001B[38;5;132;01m{\u001B[39;00maxis_name\u001B[38;5;132;01m}\u001B[39;00m\u001B[38;5;124m]\u001B[39m\u001B[38;5;124m\"\u001B[39m)\n\u001B[0;32m   6251\u001B[0m not_found \u001B[38;5;241m=\u001B[39m \u001B[38;5;28mlist\u001B[39m(ensure_index(key)[missing_mask\u001B[38;5;241m.\u001B[39mnonzero()[\u001B[38;5;241m0\u001B[39m]]\u001B[38;5;241m.\u001B[39munique())\n\u001B[1;32m-> 6252\u001B[0m \u001B[38;5;28;01mraise\u001B[39;00m \u001B[38;5;167;01mKeyError\u001B[39;00m(\u001B[38;5;124mf\u001B[39m\u001B[38;5;124m\"\u001B[39m\u001B[38;5;132;01m{\u001B[39;00mnot_found\u001B[38;5;132;01m}\u001B[39;00m\u001B[38;5;124m not in index\u001B[39m\u001B[38;5;124m\"\u001B[39m)\n",
      "\u001B[1;31mKeyError\u001B[0m: \"['cluster'] not in index\""
     ]
    }
   ],
   "execution_count": 42
  }
 ],
 "metadata": {
  "kernelspec": {
   "display_name": "Python 3",
   "language": "python",
   "name": "python3"
  },
  "language_info": {
   "codemirror_mode": {
    "name": "ipython",
    "version": 2
   },
   "file_extension": ".py",
   "mimetype": "text/x-python",
   "name": "python",
   "nbconvert_exporter": "python",
   "pygments_lexer": "ipython2",
   "version": "2.7.6"
  }
 },
 "nbformat": 4,
 "nbformat_minor": 5
}
