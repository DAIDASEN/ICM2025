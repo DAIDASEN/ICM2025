{
 "cells": [
  {
   "cell_type": "code",
   "id": "initial_id",
   "metadata": {
    "collapsed": true,
    "ExecuteTime": {
     "end_time": "2025-01-26T13:52:13.333522Z",
     "start_time": "2025-01-26T13:52:13.236482Z"
    }
   },
   "source": [
    "import json\n",
    "import numpy as np\n",
    "import pandas as pd\n",
    "from sklearn.cluster import KMeans\n",
    "from sklearn.linear_model import LassoCV\n",
    "from sklearn.preprocessing import StandardScaler, OneHotEncoder\n",
    "from sklearn.model_selection import TimeSeriesSplit\n",
    "\n",
    "# 1. 数据加载与预处理\n",
    "with open('new_data.json') as f:\n",
    "    raw_data = json.load(f)\n",
    "\n",
    "# 提取国家级特征用于聚类\n",
    "country_stats = []\n",
    "for noc, entries in raw_data.items():\n",
    "    stats = {\n",
    "        'NOC': noc,\n",
    "        'avg_gold': np.mean([e['Feats'][3] for e in entries]) if entries else 0,\n",
    "        'max_athletes' : max(e['Feats'][4] for e in entries) if entries else 0 , # 历史最大参赛人数\n",
    "        'total_host': sum(e['Feats'][-1] for e in entries),      # 累计主办次数\n",
    "        'trend': np.polyfit(                                      # 奖牌数趋势\n",
    "            [e['TimeOrder'] for e in entries],\n",
    "            [e['Label'] for e in entries], 1\n",
    "        )[0]\n",
    "    }\n",
    "    country_stats.append(stats)\n",
    "\n",
    "df_country = pd.DataFrame(country_stats).set_index('NOC')\n"
   ],
   "outputs": [
    {
     "ename": "TypeError",
     "evalue": "expected non-empty vector for x",
     "output_type": "error",
     "traceback": [
      "\u001B[1;31m---------------------------------------------------------------------------\u001B[0m",
      "\u001B[1;31mTypeError\u001B[0m                                 Traceback (most recent call last)",
      "Cell \u001B[1;32mIn[43], line 21\u001B[0m\n\u001B[0;32m     14\u001B[0m country_stats \u001B[38;5;241m=\u001B[39m []\n\u001B[0;32m     15\u001B[0m \u001B[38;5;28;01mfor\u001B[39;00m noc, entries \u001B[38;5;129;01min\u001B[39;00m raw_data\u001B[38;5;241m.\u001B[39mitems():\n\u001B[0;32m     16\u001B[0m     stats \u001B[38;5;241m=\u001B[39m {\n\u001B[0;32m     17\u001B[0m         \u001B[38;5;124m'\u001B[39m\u001B[38;5;124mNOC\u001B[39m\u001B[38;5;124m'\u001B[39m: noc,\n\u001B[0;32m     18\u001B[0m         \u001B[38;5;124m'\u001B[39m\u001B[38;5;124mavg_gold\u001B[39m\u001B[38;5;124m'\u001B[39m: np\u001B[38;5;241m.\u001B[39mmean([e[\u001B[38;5;124m'\u001B[39m\u001B[38;5;124mFeats\u001B[39m\u001B[38;5;124m'\u001B[39m][\u001B[38;5;241m3\u001B[39m] \u001B[38;5;28;01mfor\u001B[39;00m e \u001B[38;5;129;01min\u001B[39;00m entries]) \u001B[38;5;28;01mif\u001B[39;00m entries \u001B[38;5;28;01melse\u001B[39;00m \u001B[38;5;241m0\u001B[39m,\n\u001B[0;32m     19\u001B[0m         \u001B[38;5;124m'\u001B[39m\u001B[38;5;124mmax_athletes\u001B[39m\u001B[38;5;124m'\u001B[39m : \u001B[38;5;28mmax\u001B[39m(e[\u001B[38;5;124m'\u001B[39m\u001B[38;5;124mFeats\u001B[39m\u001B[38;5;124m'\u001B[39m][\u001B[38;5;241m4\u001B[39m] \u001B[38;5;28;01mfor\u001B[39;00m e \u001B[38;5;129;01min\u001B[39;00m entries) \u001B[38;5;28;01mif\u001B[39;00m entries \u001B[38;5;28;01melse\u001B[39;00m \u001B[38;5;241m0\u001B[39m , \u001B[38;5;66;03m# 历史最大参赛人数\u001B[39;00m\n\u001B[0;32m     20\u001B[0m         \u001B[38;5;124m'\u001B[39m\u001B[38;5;124mtotal_host\u001B[39m\u001B[38;5;124m'\u001B[39m: \u001B[38;5;28msum\u001B[39m(e[\u001B[38;5;124m'\u001B[39m\u001B[38;5;124mFeats\u001B[39m\u001B[38;5;124m'\u001B[39m][\u001B[38;5;241m-\u001B[39m\u001B[38;5;241m1\u001B[39m] \u001B[38;5;28;01mfor\u001B[39;00m e \u001B[38;5;129;01min\u001B[39;00m entries),      \u001B[38;5;66;03m# 累计主办次数\u001B[39;00m\n\u001B[1;32m---> 21\u001B[0m         \u001B[38;5;124m'\u001B[39m\u001B[38;5;124mtrend\u001B[39m\u001B[38;5;124m'\u001B[39m: \u001B[43mnp\u001B[49m\u001B[38;5;241;43m.\u001B[39;49m\u001B[43mpolyfit\u001B[49m\u001B[43m(\u001B[49m\u001B[43m                                      \u001B[49m\u001B[38;5;66;43;03m# 奖牌数趋势\u001B[39;49;00m\n\u001B[0;32m     22\u001B[0m \u001B[43m            \u001B[49m\u001B[43m[\u001B[49m\u001B[43me\u001B[49m\u001B[43m[\u001B[49m\u001B[38;5;124;43m'\u001B[39;49m\u001B[38;5;124;43mTimeOrder\u001B[39;49m\u001B[38;5;124;43m'\u001B[39;49m\u001B[43m]\u001B[49m\u001B[43m \u001B[49m\u001B[38;5;28;43;01mfor\u001B[39;49;00m\u001B[43m \u001B[49m\u001B[43me\u001B[49m\u001B[43m \u001B[49m\u001B[38;5;129;43;01min\u001B[39;49;00m\u001B[43m \u001B[49m\u001B[43mentries\u001B[49m\u001B[43m]\u001B[49m\u001B[43m,\u001B[49m\n\u001B[0;32m     23\u001B[0m \u001B[43m            \u001B[49m\u001B[43m[\u001B[49m\u001B[43me\u001B[49m\u001B[43m[\u001B[49m\u001B[38;5;124;43m'\u001B[39;49m\u001B[38;5;124;43mLabel\u001B[39;49m\u001B[38;5;124;43m'\u001B[39;49m\u001B[43m]\u001B[49m\u001B[43m \u001B[49m\u001B[38;5;28;43;01mfor\u001B[39;49;00m\u001B[43m \u001B[49m\u001B[43me\u001B[49m\u001B[43m \u001B[49m\u001B[38;5;129;43;01min\u001B[39;49;00m\u001B[43m \u001B[49m\u001B[43mentries\u001B[49m\u001B[43m]\u001B[49m\u001B[43m,\u001B[49m\u001B[43m \u001B[49m\u001B[38;5;241;43m1\u001B[39;49m\n\u001B[0;32m     24\u001B[0m \u001B[43m        \u001B[49m\u001B[43m)\u001B[49m[\u001B[38;5;241m0\u001B[39m]\n\u001B[0;32m     25\u001B[0m     }\n\u001B[0;32m     26\u001B[0m     country_stats\u001B[38;5;241m.\u001B[39mappend(stats)\n\u001B[0;32m     28\u001B[0m df_country \u001B[38;5;241m=\u001B[39m pd\u001B[38;5;241m.\u001B[39mDataFrame(country_stats)\u001B[38;5;241m.\u001B[39mset_index(\u001B[38;5;124m'\u001B[39m\u001B[38;5;124mNOC\u001B[39m\u001B[38;5;124m'\u001B[39m)\n",
      "File \u001B[1;32mC:\\anaconda\\envs\\CSCI3230\\ICM2025\\Lib\\site-packages\\numpy\\lib\\_polynomial_impl.py:636\u001B[0m, in \u001B[0;36mpolyfit\u001B[1;34m(x, y, deg, rcond, full, w, cov)\u001B[0m\n",
      "\u001B[1;31mTypeError\u001B[0m: expected non-empty vector for x"
     ]
    }
   ],
   "execution_count": 43
  },
  {
   "metadata": {
    "ExecuteTime": {
     "end_time": "2025-01-26T09:10:11.417054Z",
     "start_time": "2025-01-26T09:10:11.378316Z"
    }
   },
   "cell_type": "code",
   "source": [
    "\n",
    "# 2. 国家聚类\n",
    "scaler = StandardScaler()\n",
    "X_cluster = scaler.fit_transform(df_country)\n",
    "kmeans = KMeans(n_clusters=3, random_state=42)\n",
    "clusters = kmeans.fit_predict(X_cluster)\n",
    "df_country['Cluster'] = clusters  # 保存聚类标签\n",
    "\n",
    "# 3. 构建训练数据集\n",
    "all_samples = []\n",
    "for noc, entries in raw_data.items():\n",
    "    cluster_label = df_country.loc[noc, 'Cluster']\n",
    "    for entry in entries:\n",
    "        features = entry['Feats'].copy()\n",
    "        features.append(cluster_label)  # 添加聚类标签\n",
    "        all_samples.append({\n",
    "            'features': features,\n",
    "            'label': entry['Label'],\n",
    "            'year': entry['Year']\n",
    "        })\n",
    "\n",
    "df = pd.DataFrame(all_samples)\n",
    "X = pd.DataFrame(df['features'].tolist())\n",
    "y = df['label']\n",
    "\n",
    "# 4. 特征工程\n",
    "# 原始特征名称（示例）\n",
    "original_feat_names = [\n",
    "    'gold_t3', 'silver_t3', 'bronze_t3', 'total_t3', 'athletes_t3', 'host_t3',\n",
    "    'gold_t2', 'silver_t2', 'bronze_t2', 'total_t2', 'athletes_t2', 'host_t2',\n",
    "    'gold_t1', 'silver_t1', 'bronze_t1', 'total_t1', 'athletes_t1', 'host_t1',\n",
    "    'is_host_current',\n",
    "    'cluster'  # 新增聚类标签\n",
    "]\n",
    "\n",
    "# 生成聚类交互特征\n",
    "encoder = OneHotEncoder(sparse_output=False)\n",
    "cluster_encoded = encoder.fit_transform(X[[19]])  # 假设cluster在第19列\n",
    "\n",
    "# 交互特征：运动员数量 * 聚类类别\n",
    "athletes_feats = X[[4, 10, 16]]  # t-3, t-2, t-1届的运动员数\n",
    "interactions = []\n",
    "for i in range(athletes_feats.shape[1]):\n",
    "    for j in range(cluster_encoded.shape[1]):\n",
    "        interactions.append(athletes_feats.iloc[:, i] * cluster_encoded[:, j])\n",
    "\n",
    "# 合并所有特征\n",
    "X_processed = pd.concat([\n",
    "    X.iloc[:, :19],  # 原始特征\n",
    "    pd.DataFrame(cluster_encoded, columns=[f'Cluster_{i}' for i in range(3)]),\n",
    "    pd.DataFrame(np.array(interactions).T,\n",
    "                 columns=[f'Athletes_t{3-i}_c{j}' for i in range(3) for j in range(3)])\n",
    "], axis=1)\n",
    "\n",
    "# 5. 时空交叉验证\n",
    "tscv = TimeSeriesSplit(n_splits=5)\n",
    "model = LassoCV(cv=tscv, alphas=np.logspace(-3, 1, 50),\n",
    "                max_iter=10000, random_state=42)\n",
    "\n",
    "# 6. 训练与评估\n",
    "scaler_x = StandardScaler()\n",
    "X_scaled = scaler_x.fit_transform(X_processed)\n",
    "model.fit(X_scaled, y)\n",
    "\n",
    "# 输出重要特征\n",
    "important_feats = X_processed.columns[np.abs(model.coef_) > 0]\n",
    "print(\"重要特征:\", important_feats.tolist())"
   ],
   "id": "6378c64b2a8808ac",
   "outputs": [
    {
     "ename": "NameError",
     "evalue": "name 'pm' is not defined",
     "output_type": "error",
     "traceback": [
      "\u001B[1;31m---------------------------------------------------------------------------\u001B[0m",
      "\u001B[1;31mNameError\u001B[0m                                 Traceback (most recent call last)",
      "Cell \u001B[1;32mIn[21], line 1\u001B[0m\n\u001B[1;32m----> 1\u001B[0m \u001B[38;5;28;01mwith\u001B[39;00m \u001B[43mpm\u001B[49m\u001B[38;5;241m.\u001B[39mModel() \u001B[38;5;28;01mas\u001B[39;00m hierarchical_model:\n\u001B[0;32m      2\u001B[0m     \u001B[38;5;66;03m# 超参数先验\u001B[39;00m\n\u001B[0;32m      3\u001B[0m     sigma_country \u001B[38;5;241m=\u001B[39m pm\u001B[38;5;241m.\u001B[39mHalfNormal(\u001B[38;5;124m\"\u001B[39m\u001B[38;5;124msigma_country\u001B[39m\u001B[38;5;124m\"\u001B[39m, sigma\u001B[38;5;241m=\u001B[39m\u001B[38;5;241m1\u001B[39m)\n\u001B[0;32m      4\u001B[0m     sigma_obs \u001B[38;5;241m=\u001B[39m pm\u001B[38;5;241m.\u001B[39mHalfNormal(\u001B[38;5;124m\"\u001B[39m\u001B[38;5;124msigma_obs\u001B[39m\u001B[38;5;124m\"\u001B[39m, sigma\u001B[38;5;241m=\u001B[39m\u001B[38;5;241m5\u001B[39m)\n",
      "\u001B[1;31mNameError\u001B[0m: name 'pm' is not defined"
     ]
    }
   ],
   "execution_count": 21
  }
 ],
 "metadata": {
  "kernelspec": {
   "display_name": "Python 3",
   "language": "python",
   "name": "python3"
  },
  "language_info": {
   "codemirror_mode": {
    "name": "ipython",
    "version": 2
   },
   "file_extension": ".py",
   "mimetype": "text/x-python",
   "name": "python",
   "nbconvert_exporter": "python",
   "pygments_lexer": "ipython2",
   "version": "2.7.6"
  }
 },
 "nbformat": 4,
 "nbformat_minor": 5
}
