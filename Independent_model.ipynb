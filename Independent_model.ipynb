{
 "cells": [
  {
   "cell_type": "code",
   "id": "initial_id",
   "metadata": {
    "collapsed": true,
    "ExecuteTime": {
     "end_time": "2025-01-25T19:19:16.786852Z",
     "start_time": "2025-01-25T19:19:14.419350Z"
    }
   },
   "source": [
    "import json\n",
    "import numpy as np\n",
    "import pandas as pd\n",
    "from sklearn.linear_model import LassoCV\n",
    "from sklearn.metrics import mean_absolute_error\n",
    "\n",
    "# 读取数据\n",
    "with open('data.json', 'r') as f:\n",
    "    data = json.load(f)\n",
    "\n",
    "# 训练每个国家的模型\n",
    "country_models = {}\n",
    "test_error = []\n",
    "for country, entries in data.items():\n",
    "    if len(entries) < 4:  # 至少需要4个样本\n",
    "        continue\n",
    "\n",
    "    # 提取特征和标签\n",
    "    X = np.array([e['Feats'] for e in entries])\n",
    "    y = np.array([e['label'][3] for e in entries])\n",
    "\n",
    "    # 时间序列训练集划分（最后20%作为测试集）\n",
    "    split_idx = int(len(X) * 0.8)\n",
    "    X_train, X_test = X[:split_idx], X[split_idx:]\n",
    "    y_train, y_test = y[:split_idx], y[split_idx:]\n",
    "\n",
    "    # 训练Lasso模型（自动选择alpha）\n",
    "    try:\n",
    "        model = LassoCV(alphas=np.logspace(-6, 2, 100), cv=3, max_iter=10000)\n",
    "        model.fit(X_train, y_train)\n",
    "\n",
    "        # 评估模型\n",
    "        train_mae = mean_absolute_error(y_train, model.predict(X_train))\n",
    "        test_mae = mean_absolute_error(y_test, model.predict(X_test)) if len(X_test) > 0 else np.nan\n",
    "        print(f\"{country} - 训练MAE: {train_mae:.1f}, 测试MAE: {test_mae:.1f}\")\n",
    "        if len(X_test) > 0:\n",
    "            test_error.extend(model.predict(X_test) - y_test)  # 添加预测误差\n",
    "    except Exception as e:\n",
    "        print(f\"{country}训练失败: {str(e)}\")\n",
    "\n",
    "# 预测函数\n",
    "def predict_medals(country_code, features):\n",
    "    if country_code not in country_models:\n",
    "        raise ValueError(f\"无模型可用于国家: {country_code}\")\n",
    "    return max(0, country_models[country_code].predict([features])[0])  # 确保非负数\n",
    "\n",
    "# # 示例预测\n",
    "# features_usa = [10, 8, 6, 24, 500, 1] * 3 + [1]  # 前三届特征 + 主办方\n",
    "# print(f\"美国预测: {predict_medals('USA', features_usa):.1f} 枚奖牌\")"
   ],
   "outputs": [
    {
     "name": "stdout",
     "output_type": "stream",
     "text": [
      "ARG - 训练MAE: 2.1, 测试MAE: 0.5\n",
      "AUS - 训练MAE: 8.8, 测试MAE: 10.9\n",
      "AUT - 训练MAE: 0.8, 测试MAE: 2.0\n",
      "AZE - 训练MAE: 4.4, 测试MAE: 4.3\n",
      "BEL - 训练MAE: 1.5, 测试MAE: 3.2\n",
      "BGR - 训练MAE: 2.4, 测试MAE: 5.4\n"
     ]
    },
    {
     "name": "stderr",
     "output_type": "stream",
     "text": [
      "C:\\anaconda\\envs\\CSCI3230\\ICM2025\\Lib\\site-packages\\sklearn\\linear_model\\_coordinate_descent.py:695: ConvergenceWarning: Objective did not converge. You might want to increase the number of iterations, check the scale of the features or consider increasing regularisation. Duality gap: 0.000e+00, tolerance: 0.000e+00\n",
      "  model = cd_fast.enet_coordinate_descent(\n"
     ]
    },
    {
     "name": "stdout",
     "output_type": "stream",
     "text": [
      "BHS - 训练MAE: 0.4, 测试MAE: 0.3\n",
      "BRA - 训练MAE: 1.2, 测试MAE: 4.6\n",
      "CAN - 训练MAE: 4.5, 测试MAE: 14.8\n",
      "CHE - 训练MAE: 2.7, 测试MAE: 5.0\n",
      "CHN - 训练MAE: 10.7, 测试MAE: 27.9\n",
      "CUB - 训练MAE: 5.4, 测试MAE: 4.0\n"
     ]
    },
    {
     "name": "stderr",
     "output_type": "stream",
     "text": [
      "C:\\anaconda\\envs\\CSCI3230\\ICM2025\\Lib\\site-packages\\sklearn\\linear_model\\_coordinate_descent.py:695: ConvergenceWarning: Objective did not converge. You might want to increase the number of iterations, check the scale of the features or consider increasing regularisation. Duality gap: 0.000e+00, tolerance: 0.000e+00\n",
      "  model = cd_fast.enet_coordinate_descent(\n"
     ]
    },
    {
     "name": "stdout",
     "output_type": "stream",
     "text": [
      "CZE - 训练MAE: 0.4, 测试MAE: 5.7\n",
      "DEU - 训练MAE: 3.7, 测试MAE: 5.4\n",
      "DNK - 训练MAE: 2.3, 测试MAE: 4.6\n",
      "ESP - 训练MAE: 3.7, 测试MAE: 1.1\n"
     ]
    },
    {
     "name": "stderr",
     "output_type": "stream",
     "text": [
      "C:\\anaconda\\envs\\CSCI3230\\ICM2025\\Lib\\site-packages\\sklearn\\linear_model\\_coordinate_descent.py:695: ConvergenceWarning: Objective did not converge. You might want to increase the number of iterations, check the scale of the features or consider increasing regularisation. Duality gap: 0.000e+00, tolerance: 0.000e+00\n",
      "  model = cd_fast.enet_coordinate_descent(\n"
     ]
    },
    {
     "name": "stdout",
     "output_type": "stream",
     "text": [
      "ETH - 训练MAE: 0.9, 测试MAE: 4.1\n",
      "FIN - 训练MAE: 4.4, 测试MAE: 5.3\n",
      "FRA - 训练MAE: 5.3, 测试MAE: 7.5\n",
      "GBR - 训练MAE: 8.9, 测试MAE: 41.9\n",
      "GEO - 训练MAE: 0.0, 测试MAE: 2.3\n",
      "GRC - 训练MAE: 3.3, 测试MAE: 3.4\n",
      "HRV - 训练MAE: 0.0, 测试MAE: 2.2\n",
      "HUN - 训练MAE: 6.0, 测试MAE: 2.2\n"
     ]
    },
    {
     "name": "stderr",
     "output_type": "stream",
     "text": [
      "C:\\anaconda\\envs\\CSCI3230\\ICM2025\\Lib\\site-packages\\sklearn\\linear_model\\_coordinate_descent.py:695: ConvergenceWarning: Objective did not converge. You might want to increase the number of iterations, check the scale of the features or consider increasing regularisation. Duality gap: 0.000e+00, tolerance: 0.000e+00\n",
      "  model = cd_fast.enet_coordinate_descent(\n"
     ]
    },
    {
     "name": "stdout",
     "output_type": "stream",
     "text": [
      "IDN - 训练MAE: 0.6, 测试MAE: 1.2\n",
      "IND - 训练MAE: 1.8, 测试MAE: 4.0\n",
      "IRN - 训练MAE: 2.8, 测试MAE: 4.8\n",
      "ITA - 训练MAE: 5.3, 测试MAE: 7.4\n",
      "JAM - 训练MAE: 1.0, 测试MAE: 2.5\n",
      "JPN - 训练MAE: 4.8, 测试MAE: 17.0\n",
      "KAZ - 训练MAE: 0.0, 测试MAE: 1.7\n",
      "KEN - 训练MAE: 1.1, 测试MAE: 4.7\n",
      "KOR - 训练MAE: 2.4, 测试MAE: 6.6\n",
      "LTU - 训练MAE: 1.4, 测试MAE: 0.2\n",
      "MAR - 训练MAE: 0.3, 测试MAE: 1.0\n",
      "MEX - 训练MAE: 2.1, 测试MAE: 2.1\n",
      "NLD - 训练MAE: 4.2, 测试MAE: 12.4\n",
      "NOR - 训练MAE: 3.5, 测试MAE: 4.4\n",
      "NZL - 训练MAE: 1.2, 测试MAE: 8.5\n",
      "POL - 训练MAE: 4.7, 测试MAE: 7.1\n"
     ]
    },
    {
     "name": "stderr",
     "output_type": "stream",
     "text": [
      "C:\\anaconda\\envs\\CSCI3230\\ICM2025\\Lib\\site-packages\\sklearn\\linear_model\\_coordinate_descent.py:695: ConvergenceWarning: Objective did not converge. You might want to increase the number of iterations, check the scale of the features or consider increasing regularisation. Duality gap: 0.000e+00, tolerance: 0.000e+00\n",
      "  model = cd_fast.enet_coordinate_descent(\n",
      "C:\\anaconda\\envs\\CSCI3230\\ICM2025\\Lib\\site-packages\\sklearn\\linear_model\\_coordinate_descent.py:695: ConvergenceWarning: Objective did not converge. You might want to increase the number of iterations, check the scale of the features or consider increasing regularisation. Duality gap: 0.000e+00, tolerance: 0.000e+00\n",
      "  model = cd_fast.enet_coordinate_descent(\n"
     ]
    },
    {
     "name": "stdout",
     "output_type": "stream",
     "text": [
      "PRK - 训练MAE: 0.4, 测试MAE: 0.3\n",
      "PRT - 训练MAE: 1.3, 测试MAE: 2.0\n",
      "ROU - 训练MAE: 7.1, 测试MAE: 16.9\n"
     ]
    },
    {
     "name": "stderr",
     "output_type": "stream",
     "text": [
      "C:\\anaconda\\envs\\CSCI3230\\ICM2025\\Lib\\site-packages\\sklearn\\linear_model\\_coordinate_descent.py:695: ConvergenceWarning: Objective did not converge. You might want to increase the number of iterations, check the scale of the features or consider increasing regularisation. Duality gap: 0.000e+00, tolerance: 0.000e+00\n",
      "  model = cd_fast.enet_coordinate_descent(\n",
      "C:\\anaconda\\envs\\CSCI3230\\ICM2025\\Lib\\site-packages\\sklearn\\linear_model\\_coordinate_descent.py:695: ConvergenceWarning: Objective did not converge. You might want to increase the number of iterations, check the scale of the features or consider increasing regularisation. Duality gap: 0.000e+00, tolerance: 0.000e+00\n",
      "  model = cd_fast.enet_coordinate_descent(\n",
      "C:\\anaconda\\envs\\CSCI3230\\ICM2025\\Lib\\site-packages\\sklearn\\linear_model\\_coordinate_descent.py:695: ConvergenceWarning: Objective did not converge. You might want to increase the number of iterations, check the scale of the features or consider increasing regularisation. Duality gap: 0.000e+00, tolerance: 0.000e+00\n",
      "  model = cd_fast.enet_coordinate_descent(\n",
      "C:\\anaconda\\envs\\CSCI3230\\ICM2025\\Lib\\site-packages\\sklearn\\linear_model\\_coordinate_descent.py:695: ConvergenceWarning: Objective did not converge. You might want to increase the number of iterations, check the scale of the features or consider increasing regularisation. Duality gap: 0.000e+00, tolerance: 0.000e+00\n",
      "  model = cd_fast.enet_coordinate_descent(\n",
      "C:\\anaconda\\envs\\CSCI3230\\ICM2025\\Lib\\site-packages\\sklearn\\linear_model\\_coordinate_descent.py:695: ConvergenceWarning: Objective did not converge. You might want to increase the number of iterations, check the scale of the features or consider increasing regularisation. Duality gap: 1.551e-01, tolerance: 1.198e-01\n",
      "  model = cd_fast.enet_coordinate_descent(\n"
     ]
    },
    {
     "name": "stdout",
     "output_type": "stream",
     "text": [
      "SVK - 训练MAE: 0.0, 测试MAE: 3.0\n",
      "SVN - 训练MAE: 0.2, 测试MAE: 1.5\n",
      "SWE - 训练MAE: 2.0, 测试MAE: 6.9\n",
      "THA - 训练MAE: 1.5, 测试MAE: 2.0\n",
      "TUR - 训练MAE: 2.1, 测试MAE: 5.3\n",
      "TWN - 训练MAE: 1.3, 测试MAE: 0.4\n"
     ]
    },
    {
     "name": "stderr",
     "output_type": "stream",
     "text": [
      "C:\\anaconda\\envs\\CSCI3230\\ICM2025\\Lib\\site-packages\\sklearn\\linear_model\\_coordinate_descent.py:695: ConvergenceWarning: Objective did not converge. You might want to increase the number of iterations, check the scale of the features or consider increasing regularisation. Duality gap: 0.000e+00, tolerance: 0.000e+00\n",
      "  model = cd_fast.enet_coordinate_descent(\n"
     ]
    },
    {
     "name": "stdout",
     "output_type": "stream",
     "text": [
      "UKR - 训练MAE: 3.6, 测试MAE: 4.3\n",
      "USA - 训练MAE: 14.7, 测试MAE: 10.3\n",
      "UZB - 训练MAE: 4.0, 测试MAE: 6.0\n",
      "YUG - 训练MAE: 3.1, 测试MAE: 4.0\n",
      "ZAF - 训练MAE: 2.7, 测试MAE: 1.5\n"
     ]
    }
   ],
   "execution_count": 7
  },
  {
   "metadata": {
    "ExecuteTime": {
     "end_time": "2025-01-25T19:19:52.579851Z",
     "start_time": "2025-01-25T19:19:52.476489Z"
    }
   },
   "cell_type": "code",
   "source": [
    "import matplotlib.pyplot as plt\n",
    "import numpy as np\n",
    "\n",
    "# 假设 test_error 是一个包含预测值与真实值之间差异的列表\n",
    "# test_error = [误差1, 误差2, 误差3, ..., 误差n]\n",
    "\n",
    "# 创建颜色数组，根据误差决定颜色\n",
    "colors = ['green' if error > 0 else 'red' for error in test_error]\n",
    "\n",
    "# 绘制误差图\n",
    "plt.figure(figsize=(12, 6))\n",
    "plt.bar(range(len(test_error)), test_error, color=colors, alpha=0.6)\n",
    "plt.axhline(0, color='black', linestyle='--')  # 添加零误差参考线\n",
    "plt.title('Prediction Errors')\n",
    "plt.xlabel('Test Sample Index')\n",
    "plt.ylabel('Predicted - Actual')\n",
    "# plt.xticks(range(len(test_error)))  # 根据误差数量设置x轴刻度\n",
    "plt.grid(axis='y')  # 添加y轴网格\n",
    "plt.show()"
   ],
   "id": "162c00fd7dc8018b",
   "outputs": [
    {
     "data": {
      "text/plain": [
       "<Figure size 1200x600 with 1 Axes>"
      ],
      "image/png": "[encoded data removed]"
     },
     "metadata": {},
     "output_type": "display_data"
    }
   ],
   "execution_count": 10
  }
 ],
 "metadata": {
  "kernelspec": {
   "display_name": "Python 3",
   "language": "python",
   "name": "python3"
  },
  "language_info": {
   "codemirror_mode": {
    "name": "ipython",
    "version": 2
   },
   "file_extension": ".py",
   "mimetype": "text/x-python",
   "name": "python",
   "nbconvert_exporter": "python",
   "pygments_lexer": "ipython2",
   "version": "2.7.6"
  }
 },
 "nbformat": 4,
 "nbformat_minor": 5
}
