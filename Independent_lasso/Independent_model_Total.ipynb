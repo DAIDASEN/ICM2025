{
 "cells": [
  {
   "cell_type": "code",
   "id": "initial_id",
   "metadata": {
    "collapsed": true,
    "ExecuteTime": {
     "end_time": "2025-01-26T16:28:11.967622Z",
     "start_time": "2025-01-26T16:28:11.487379Z"
    }
   },
   "source": [
    "import pandas as pd\n",
    "import numpy as np\n",
    "from sklearn.linear_model import Lasso\n",
    "from sklearn.metrics import mean_squared_error\n",
    "\n",
    "# 加载数据（假设数据已读入df）\n",
    "\n",
    "\n",
    "# 按国家和年份排序\n",
    "df = df.sort_values(by=['NOC', 'Year'])\n",
    "\n",
    "# 添加是否参赛的特征（假设未参赛时Participants=0）\n",
    "df['is_participated'] = np.where(df['Participants'] > 0, 1, 0)\n",
    "\n",
    "# 为每个国家生成滞后特征（保留所有年份）\n",
    "def generate_lags(group):\n",
    "    # 生成1~3阶滞后（严格按时间顺序，包括未参赛的0值）\n",
    "    for lag in [1, 2, 3]:\n",
    "        group[f'Gold_lag{lag}'] = group['Gold'].shift(lag)\n",
    "        group[f'Silver_lag{lag}'] = group['Silver'].shift(lag)\n",
    "        group[f'Bronze_lag{lag}'] = group['Bronze'].shift(lag)\n",
    "        group[f'Total_lag{lag}'] = group['Total'].shift(lag)\n",
    "        group[f'is_participated_lag{lag}'] = group['is_participated'].shift(lag)\n",
    "    # 填充缺失值为0（例如前三届无数据）\n",
    "    return group.fillna(0)\n",
    "\n",
    "# 按国家分组应用滞后生成\n",
    "df = df.groupby('NOC', group_keys=False).apply(generate_lags)\n",
    "\n",
    "# 定义特征列（包含滞后特征和是否参赛的历史）\n",
    "features = [\n",
    "    'Gold_lag1', 'Gold_lag2', 'Gold_lag3',\n",
    "    'Silver_lag1', 'Silver_lag2', 'Silver_lag3',\n",
    "    'Bronze_lag1', 'Bronze_lag2', 'Bronze_lag3',\n",
    "    'Total_lag1', 'Total_lag2', 'Total_lag3',\n",
    "    'is_participated_lag1', 'is_participated_lag2', 'is_participated_lag3',\n",
    "    'is_host'\n",
    "]"
   ],
   "outputs": [
    {
     "name": "stderr",
     "output_type": "stream",
     "text": [
      "C:\\Users\\31670\\AppData\\Local\\Temp\\ipykernel_33548\\554621924.py:28: DeprecationWarning: DataFrameGroupBy.apply operated on the grouping columns. This behavior is deprecated, and in a future version of pandas the grouping columns will be excluded from the operation. Either pass `include_groups=False` to exclude the groupings or explicitly select the grouping columns after groupby to silence this warning.\n",
      "  df = df.groupby('NOC', group_keys=False).apply(generate_lags)\n"
     ]
    }
   ],
   "execution_count": 35
  },
  {
   "metadata": {
    "jupyter": {
     "is_executing": true
    },
    "ExecuteTime": {
     "start_time": "2025-01-26T16:45:23.218662Z"
    }
   },
   "cell_type": "code",
   "source": [
    "import pandas as pd\n",
    "import numpy as np\n",
    "from sklearn.linear_model import LassoCV\n",
    "from sklearn.preprocessing import StandardScaler\n",
    "from sklearn.pipeline import make_pipeline\n",
    "from sklearn.metrics import mean_squared_error\n",
    "from sklearn.model_selection import TimeSeriesSplit\n",
    "\n",
    "# 加载数据（假设数据已读入df）\n",
    "df = pd.read_csv(\"../complete_data.csv\")\n",
    "\n",
    "# 按国家和年份排序\n",
    "df = df.sort_values(by= ['NOC', 'Year'])\n",
    "\n",
    "# 生成滞后特征（包括未参赛年份的0值）\n",
    "def generate_lags(group):\n",
    "    for lag in [1, 2, 3]:\n",
    "        group[f'Gold_lag{lag}'] = group['Gold'].shift(lag)\n",
    "        group[f'Silver_lag{lag}'] = group['Silver'].shift(lag)\n",
    "        group[f'Bronze_lag{lag}'] = group['Bronze'].shift(lag)\n",
    "        group[f'Total_lag{lag}'] = group['Total'].shift(lag)\n",
    "        group[f'is_participated_lag{lag}'] = group['is_participated'].shift(lag)\n",
    "    return group.fillna(0)\n",
    "\n",
    "df['is_participated'] = np.where(df['Participants'] > 0, 1, 0)\n",
    "df = df.groupby('NOC', group_keys=False).apply(generate_lags)\n",
    "\n",
    "# 定义特征列\n",
    "features = [\n",
    "    'Gold_lag1', 'Gold_lag2', 'Gold_lag3',\n",
    "    'Silver_lag1', 'Silver_lag2', 'Silver_lag3',\n",
    "    'Bronze_lag1', 'Bronze_lag2', 'Bronze_lag3',\n",
    "    'Total_lag1', 'Total_lag2', 'Total_lag3',\n",
    "    'is_participated_lag1', 'is_participated_lag2', 'is_participated_lag3',\n",
    "    'is_host'\n",
    "]\n",
    "\n",
    "# 存储模型和结果\n",
    "models = {}\n",
    "results = {}\n",
    "\n",
    "for noc in df['NOC'].unique():\n",
    "    country_df = df[df['NOC'] == noc]\n",
    "    train = country_df[country_df['Year'] < 2024]\n",
    "    test = country_df[country_df['Year'] == 2024]\n",
    "\n",
    "    # 跳过无测试数据或训练数据不足的情况\n",
    "    if len(test) == 0 or len(train) < 4:\n",
    "        print(f\"Skipping {noc}: Insufficient data.\")\n",
    "        continue\n",
    "\n",
    "    X_train = train[features]\n",
    "    y_train = train['Total']\n",
    "    X_test = test[features]\n",
    "    y_test = test['Total']\n",
    "\n",
    "    # 跳过全零特征\n",
    "    if X_train[features].sum().sum() == 0:\n",
    "        print(f\"Skipping {noc}: All features are zero.\")\n",
    "        continue\n",
    "\n",
    "    # 时间序列交叉验证\n",
    "    n_splits = min(3, len(X_train) - 1)\n",
    "    if n_splits < 2:\n",
    "        print(f\"Skipping {noc}: Not enough samples for CV.\")\n",
    "        continue\n",
    "\n",
    "    tscv = TimeSeriesSplit(n_splits=n_splits)\n",
    "\n",
    "    # 创建包含标准化的LassoCV管道\n",
    "    pipeline = make_pipeline(\n",
    "        StandardScaler(),  # 标准化特征\n",
    "        LassoCV(\n",
    "            alphas=np.logspace(-3, 2, 50),  # 扩展alpha范围（0.001到100）\n",
    "            cv=tscv,\n",
    "            max_iter=100000,  # 显著增加迭代次数\n",
    "            random_state=42,\n",
    "            selection='random'  # 改进收敛性\n",
    "        )\n",
    "    )\n",
    "\n",
    "    try:\n",
    "        # 训练模型\n",
    "        pipeline.fit(X_train, y_train)\n",
    "        lasso_model = pipeline.named_steps['lassocv']\n",
    "\n",
    "        # 预测\n",
    "        y_pred = pipeline.predict(X_test)\n",
    "        mse = mean_squared_error(y_test, y_pred)\n",
    "\n",
    "        # 存储结果\n",
    "        models[noc] = {\n",
    "            'model': pipeline,\n",
    "            'best_alpha': lasso_model.alpha_\n",
    "        }\n",
    "        results[noc] = {\n",
    "            'Actual': y_test.values[0],\n",
    "            'Predicted': y_pred[0],\n",
    "            'MSE': mse\n",
    "        }\n",
    "    except Exception as e:\n",
    "        print(f\"Failed for {noc}: {str(e)}\")"
   ],
   "id": "162c00fd7dc8018b",
   "outputs": [
    {
     "name": "stderr",
     "output_type": "stream",
     "text": [
      "C:\\Users\\31670\\AppData\\Local\\Temp\\ipykernel_16428\\2229361728.py:26: DeprecationWarning: DataFrameGroupBy.apply operated on the grouping columns. This behavior is deprecated, and in a future version of pandas the grouping columns will be excluded from the operation. Either pass `include_groups=False` to exclude the groupings or explicitly select the grouping columns after groupby to silence this warning.\n",
      "  df = df.groupby('NOC', group_keys=False).apply(generate_lags)\n",
      "C:\\anaconda\\envs\\CSCI3230\\ICM2025\\Lib\\site-packages\\sklearn\\linear_model\\_coordinate_descent.py:695: ConvergenceWarning: Objective did not converge. You might want to increase the number of iterations, check the scale of the features or consider increasing regularisation. Duality gap: 0.000e+00, tolerance: 0.000e+00\n",
      "  model = cd_fast.enet_coordinate_descent(\n",
      "C:\\anaconda\\envs\\CSCI3230\\ICM2025\\Lib\\site-packages\\sklearn\\linear_model\\_coordinate_descent.py:695: ConvergenceWarning: Objective did not converge. You might want to increase the number of iterations, check the scale of the features or consider increasing regularisation. Duality gap: 0.000e+00, tolerance: 0.000e+00\n",
      "  model = cd_fast.enet_coordinate_descent(\n"
     ]
    }
   ],
   "execution_count": null
  },
  {
   "metadata": {
    "ExecuteTime": {
     "end_time": "2025-01-26T16:45:09.721890Z",
     "start_time": "2025-01-26T16:45:09.642636Z"
    }
   },
   "cell_type": "code",
   "source": [
    "import pandas as pd\n",
    "\n",
    "# 将结果转换为DataFrame\n",
    "results_list = []\n",
    "for noc, res in results.items():\n",
    "    results_list.append({\n",
    "        'NOC': noc,\n",
    "        'Actual_Total_2024': res['Actual'],\n",
    "        'Predicted_Total_2024': res['Predicted']\n",
    "    })\n",
    "\n",
    "# 创建DataFrame\n",
    "results_df = pd.DataFrame(results_list)\n",
    "\n",
    "# 保存到CSV文件\n",
    "results_df.to_csv(\"Total.csv\", index=False)\n",
    "print(\"Results saved to 'Total.csv'.\")"
   ],
   "id": "be91da75e9cfc217",
   "outputs": [
    {
     "ename": "NameError",
     "evalue": "name 'results' is not defined",
     "output_type": "error",
     "traceback": [
      "\u001B[1;31m---------------------------------------------------------------------------\u001B[0m",
      "\u001B[1;31mNameError\u001B[0m                                 Traceback (most recent call last)",
      "Cell \u001B[1;32mIn[4], line 5\u001B[0m\n\u001B[0;32m      3\u001B[0m \u001B[38;5;66;03m# 将结果转换为DataFrame\u001B[39;00m\n\u001B[0;32m      4\u001B[0m results_list \u001B[38;5;241m=\u001B[39m []\n\u001B[1;32m----> 5\u001B[0m \u001B[38;5;28;01mfor\u001B[39;00m noc, res \u001B[38;5;129;01min\u001B[39;00m \u001B[43mresults\u001B[49m\u001B[38;5;241m.\u001B[39mitems():\n\u001B[0;32m      6\u001B[0m     results_list\u001B[38;5;241m.\u001B[39mappend({\n\u001B[0;32m      7\u001B[0m         \u001B[38;5;124m'\u001B[39m\u001B[38;5;124mNOC\u001B[39m\u001B[38;5;124m'\u001B[39m: noc,\n\u001B[0;32m      8\u001B[0m         \u001B[38;5;124m'\u001B[39m\u001B[38;5;124mActual_Total_2024\u001B[39m\u001B[38;5;124m'\u001B[39m: res[\u001B[38;5;124m'\u001B[39m\u001B[38;5;124mActual\u001B[39m\u001B[38;5;124m'\u001B[39m],\n\u001B[0;32m      9\u001B[0m         \u001B[38;5;124m'\u001B[39m\u001B[38;5;124mPredicted_Total_2024\u001B[39m\u001B[38;5;124m'\u001B[39m: res[\u001B[38;5;124m'\u001B[39m\u001B[38;5;124mPredicted\u001B[39m\u001B[38;5;124m'\u001B[39m]\n\u001B[0;32m     10\u001B[0m     })\n\u001B[0;32m     12\u001B[0m \u001B[38;5;66;03m# 创建DataFrame\u001B[39;00m\n",
      "\u001B[1;31mNameError\u001B[0m: name 'results' is not defined"
     ]
    }
   ],
   "execution_count": 4
  }
 ],
 "metadata": {
  "kernelspec": {
   "display_name": "Python 3",
   "language": "python",
   "name": "python3"
  },
  "language_info": {
   "codemirror_mode": {
    "name": "ipython",
    "version": 2
   },
   "file_extension": ".py",
   "mimetype": "text/x-python",
   "name": "python",
   "nbconvert_exporter": "python",
   "pygments_lexer": "ipython2",
   "version": "2.7.6"
  }
 },
 "nbformat": 4,
 "nbformat_minor": 5
}
