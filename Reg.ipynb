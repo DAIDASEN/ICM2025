{
 "cells": [
  {
   "metadata": {
    "ExecuteTime": {
     "end_time": "2025-01-25T17:16:05.784268Z",
     "start_time": "2025-01-25T17:16:05.780249Z"
    }
   },
   "cell_type": "code",
   "source": [
    "import numpy as np\n",
    "import pycountry\n",
    "import pandas as pd\n",
    "import json"
   ],
   "id": "280fc9598324e07c",
   "outputs": [],
   "execution_count": 45
  },
  {
   "metadata": {
    "ExecuteTime": {
     "end_time": "2025-01-25T17:58:07.227450Z",
     "start_time": "2025-01-25T17:58:07.218398Z"
    }
   },
   "cell_type": "code",
   "source": [
    "df = pd.read_csv('Final_table.csv')\n",
    "with open(\"athlete_count.json\", 'r') as json_file:\n",
    "    find = json.load(json_file)"
   ],
   "id": "fa73a03017d43d9",
   "outputs": [],
   "execution_count": 76
  },
  {
   "metadata": {
    "ExecuteTime": {
     "end_time": "2025-01-25T17:28:40.665398Z",
     "start_time": "2025-01-25T17:28:40.657194Z"
    }
   },
   "cell_type": "code",
   "source": "",
   "id": "43579e4c672afd24",
   "outputs": [
    {
     "ename": "IndentationError",
     "evalue": "expected an indented block after 'except' statement on line 40 (1639598447.py, line 42)",
     "output_type": "error",
     "traceback": [
      "\u001B[1;36m  Cell \u001B[1;32mIn[60], line 42\u001B[1;36m\u001B[0m\n\u001B[1;33m    def search_rows(df, year, noc_code):\u001B[0m\n\u001B[1;37m                                        ^\u001B[0m\n\u001B[1;31mIndentationError\u001B[0m\u001B[1;31m:\u001B[0m expected an indented block after 'except' statement on line 40\n"
     ]
    }
   ],
   "execution_count": 60
  },
  {
   "metadata": {
    "ExecuteTime": {
     "end_time": "2025-01-25T17:58:22.622671Z",
     "start_time": "2025-01-25T17:58:22.617636Z"
    }
   },
   "cell_type": "code",
   "source": [
    "# df['Participants'] = np.nan\n",
    "mapp = noc_to_ioc = {\n",
    "  'SAU': 'KSA',\n",
    "  'VGB': 'IVB',\n",
    "  'HTI': 'HAI',\n",
    "  'TGO': 'TOG',\n",
    "  'LKA': 'SRI',\n",
    "  'GRD': 'GRN',\n",
    "  'SVN': 'SLO',\n",
    "  'DEU': 'GER',\n",
    "  'CHL': 'CHI',\n",
    "  'NGA': 'NGR',\n",
    "  'PRY': 'PAR',\n",
    "  'GTM': 'GUA',\n",
    "  'DNK': 'DEN',\n",
    "  'TON': 'TGA',\n",
    "  'BMU': 'BER',\n",
    "  'ZMB': 'ZAM',\n",
    "  'IDN': 'INA',\n",
    "  'BFA': 'BUR',\n",
    "  'ZWE': 'ZIM',\n",
    "  'GRC': 'GRE',\n",
    "  'TZA': 'TAN',\n",
    "  'HRV': 'CRO',\n",
    "  'MYS': 'MAS',\n",
    "  'ARE': 'UAE',\n",
    "  'CRI': 'CRC',\n",
    "  'FJI': 'FIJ',\n",
    "  'BGR': 'BUL',\n",
    "  'KWT': 'KUW',\n",
    "  'PHL': 'PHI',\n",
    "  'ZAF': 'RSA',\n",
    "  'WSM': 'SAM',\n",
    "  'IRN': 'IRI',\n",
    "  'BHR': 'BRN',\n",
    "  'TWN': 'TPE',\n",
    "  'CHE': 'SUI',\n",
    "  'URY': 'URU',\n",
    "  'SDN': 'SUD',\n",
    "  'NLD': 'NED',\n",
    "  'PRT': 'POR',\n",
    "  'PRI': 'PUR',\n",
    "  'BHS': 'BAH',\n",
    "  'BWA': 'BOT',\n",
    "  'NER': 'NIG',\n",
    "  'LVA': 'LAT',\n",
    "  'MUS': 'MRI',\n",
    "  'BRB': 'BAR',\n",
    "  'MNG': 'MGL',\n",
    "  'DZA': 'ALG',\n",
    "  'DDR': 'GDR'\n",
    "}"
   ],
   "id": "73583d740fd3099d",
   "outputs": [],
   "execution_count": 79
  },
  {
   "metadata": {
    "ExecuteTime": {
     "end_time": "2025-01-25T17:58:25.281065Z",
     "start_time": "2025-01-25T17:58:24.842684Z"
    }
   },
   "cell_type": "code",
   "source": [
    "cnt = 0\n",
    "miss_noc = []\n",
    "for i in range(df.shape[0]):\n",
    "    row = df.iloc[i]\n",
    "    noc = row['NOC']\n",
    "    year = row['Year']\n",
    "    year = str(year)\n",
    "    if noc in find:\n",
    "        if year in find[noc]:\n",
    "            df.loc[i, ['Participants']] = find[noc][year]\n",
    "            continue\n",
    "        else:\n",
    "            continue\n",
    "    if noc in mapp:\n",
    "        noc = mapp[noc]\n",
    "    else:\n",
    "        print(noc,\"!!!\")\n",
    "        continue\n",
    "    if noc in find:\n",
    "        if year in find[noc]:\n",
    "            df.loc[i, ['Participants']] = find[noc][year]\n",
    "        else:\n",
    "            # continue\n",
    "            print(f\"{noc} do not have {year}\")\n",
    "            cnt += 1\n",
    "    else:\n",
    "        # cnt+=1\n",
    "        miss_noc.append(noc)\n",
    "        print(f\"{noc} do not find\")\n",
    "print(cnt)"
   ],
   "id": "d3fd23b56714fcd",
   "outputs": [
    {
     "name": "stdout",
     "output_type": "stream",
     "text": [
      "GER do not have 1968\n",
      "GER do not have 1972\n",
      "GER do not have 1976\n",
      "GER do not have 1984\n",
      "GER do not have 1988\n",
      "5\n"
     ]
    }
   ],
   "execution_count": 80
  },
  {
   "metadata": {
    "ExecuteTime": {
     "end_time": "2025-01-25T17:59:42.149912Z",
     "start_time": "2025-01-25T17:59:42.136334Z"
    }
   },
   "cell_type": "code",
   "source": "df.to_csv('Final_table.csv', index=False)",
   "id": "8ec6c1cc8718d471",
   "outputs": [],
   "execution_count": 82
  },
  {
   "metadata": {
    "ExecuteTime": {
     "end_time": "2025-01-26T14:57:17.841298Z",
     "start_time": "2025-01-26T14:57:16.961758Z"
    }
   },
   "cell_type": "code",
   "source": [
    "import pandas as pd\n",
    "\n",
    "# 读取两个CSV文件\n",
    "medal_table = pd.read_csv('2025_Problem_C_Data/NEW_MEDAL_TABLE_WITH_PARTICIPANTS_WITH_HOST_FLAG.csv')\n",
    "complete_output = pd.read_csv('complete_output.csv')\n",
    "\n",
    "# 为了更高效地查找，创建一个字典来存储medal_table的数据\n",
    "medal_dict = {(row['NOC'], row['Year']): row[['Gold', 'Silver', 'Bronze', 'Total']]\n",
    "               for index, row in medal_table.iterrows()}\n",
    "\n",
    "# 遍历complete_output中的每一行\n",
    "for index, row in complete_output.iterrows():\n",
    "    key = (row['NOC'], row['Year'])\n",
    "\n",
    "    # 检查key是否在medal_dict中\n",
    "    if key in medal_dict:\n",
    "        complete_output.at[index, 'Gold'] = medal_dict[key]['Gold']\n",
    "        complete_output.at[index, 'Silver'] = medal_dict[key]['Silver']\n",
    "        complete_output.at[index, 'Bronze'] = medal_dict[key]['Bronze']\n",
    "        complete_output.at[index, 'Total'] = medal_dict[key]['Total']\n",
    "    else:\n",
    "        # 如果在medal_table中找不到对应记录，保持为0\n",
    "        complete_output.at[index, 'Gold'] = 0\n",
    "        complete_output.at[index, 'Silver'] = 0\n",
    "        complete_output.at[index, 'Bronze'] = 0\n",
    "        complete_output.at[index, 'Total'] = 0\n",
    "\n",
    "# 检查medal_table中是否有未匹配的NOC和Year\n",
    "unmatched = medal_table[~medal_table.set_index(['NOC', 'Year']).index.isin(complete_output.set_index(['NOC', 'Year']).index)]\n",
    "\n",
    "# 如果有未匹配的记录，发出警报\n",
    "if not unmatched.empty:\n",
    "    print(\"警报：以下NOC和Year在complete_output中找不到对应记录：\")\n",
    "    print(unmatched[['NOC', 'Year']])\n",
    "print(unmatched.shape[0])\n",
    "# 保存结果到新的CSV文件\n",
    "complete_output.to_csv('updated_complete_output.csv', index=False)"
   ],
   "id": "41bdcc4885f55316",
   "outputs": [
    {
     "name": "stdout",
     "output_type": "stream",
     "text": [
      "警报：以下NOC和Year在complete_output中找不到对应记录：\n",
      "      NOC  Year\n",
      "1     GRC  1896\n",
      "2     DEU  1896\n",
      "8     DNK  1896\n",
      "9     CHE  1896\n",
      "14    CHE  1900\n",
      "...   ...   ...\n",
      "1380  MNG  2024\n",
      "1384  GRD  2024\n",
      "1385  MYS  2024\n",
      "1386  PRI  2024\n",
      "1393  ZMB  2024\n",
      "\n",
      "[391 rows x 2 columns]\n",
      "391\n"
     ]
    }
   ],
   "execution_count": 85
  },
  {
   "metadata": {
    "ExecuteTime": {
     "end_time": "2025-01-26T15:00:35.710128Z",
     "start_time": "2025-01-26T15:00:35.702741Z"
    }
   },
   "cell_type": "code",
   "source": "unmatched",
   "id": "8fd9eb9b3aa3a543",
   "outputs": [
    {
     "data": {
      "text/plain": [
       "      Rank  NOC  Gold  Silver  Bronze  Total  Year  Participants  host_flag\n",
       "1        2  GRC    10      18      19     47  1896            25          1\n",
       "2        3  DEU     6       5       2     13  1896            12          0\n",
       "8        9  DNK     1       2       3      6  1896             5          0\n",
       "9       10  CHE     1       2       0      3  1896             2          0\n",
       "14       6  CHE     6       2       1      9  1900            11          0\n",
       "...    ...  ...   ...     ...     ...    ...   ...           ...        ...\n",
       "1380    74  MNG     0       1       0      1  2024            55          0\n",
       "1384    80  GRD     0       0       2      2  2024            76          0\n",
       "1385    80  MYS     0       0       2      2  2024            55          0\n",
       "1386    80  PRI     0       0       2      2  2024            63          0\n",
       "1393    84  ZMB     0       0       1      1  2024            19          0\n",
       "\n",
       "[391 rows x 9 columns]"
      ],
      "text/html": [
       "<div>\n",
       "<style scoped>\n",
       "    .dataframe tbody tr th:only-of-type {\n",
       "        vertical-align: middle;\n",
       "    }\n",
       "\n",
       "    .dataframe tbody tr th {\n",
       "        vertical-align: top;\n",
       "    }\n",
       "\n",
       "    .dataframe thead th {\n",
       "        text-align: right;\n",
       "    }\n",
       "</style>\n",
       "<table border=\"1\" class=\"dataframe\">\n",
       "  <thead>\n",
       "    <tr style=\"text-align: right;\">\n",
       "      <th></th>\n",
       "      <th>Rank</th>\n",
       "      <th>NOC</th>\n",
       "      <th>Gold</th>\n",
       "      <th>Silver</th>\n",
       "      <th>Bronze</th>\n",
       "      <th>Total</th>\n",
       "      <th>Year</th>\n",
       "      <th>Participants</th>\n",
       "      <th>host_flag</th>\n",
       "    </tr>\n",
       "  </thead>\n",
       "  <tbody>\n",
       "    <tr>\n",
       "      <th>1</th>\n",
       "      <td>2</td>\n",
       "      <td>GRC</td>\n",
       "      <td>10</td>\n",
       "      <td>18</td>\n",
       "      <td>19</td>\n",
       "      <td>47</td>\n",
       "      <td>1896</td>\n",
       "      <td>25</td>\n",
       "      <td>1</td>\n",
       "    </tr>\n",
       "    <tr>\n",
       "      <th>2</th>\n",
       "      <td>3</td>\n",
       "      <td>DEU</td>\n",
       "      <td>6</td>\n",
       "      <td>5</td>\n",
       "      <td>2</td>\n",
       "      <td>13</td>\n",
       "      <td>1896</td>\n",
       "      <td>12</td>\n",
       "      <td>0</td>\n",
       "    </tr>\n",
       "    <tr>\n",
       "      <th>8</th>\n",
       "      <td>9</td>\n",
       "      <td>DNK</td>\n",
       "      <td>1</td>\n",
       "      <td>2</td>\n",
       "      <td>3</td>\n",
       "      <td>6</td>\n",
       "      <td>1896</td>\n",
       "      <td>5</td>\n",
       "      <td>0</td>\n",
       "    </tr>\n",
       "    <tr>\n",
       "      <th>9</th>\n",
       "      <td>10</td>\n",
       "      <td>CHE</td>\n",
       "      <td>1</td>\n",
       "      <td>2</td>\n",
       "      <td>0</td>\n",
       "      <td>3</td>\n",
       "      <td>1896</td>\n",
       "      <td>2</td>\n",
       "      <td>0</td>\n",
       "    </tr>\n",
       "    <tr>\n",
       "      <th>14</th>\n",
       "      <td>6</td>\n",
       "      <td>CHE</td>\n",
       "      <td>6</td>\n",
       "      <td>2</td>\n",
       "      <td>1</td>\n",
       "      <td>9</td>\n",
       "      <td>1900</td>\n",
       "      <td>11</td>\n",
       "      <td>0</td>\n",
       "    </tr>\n",
       "    <tr>\n",
       "      <th>...</th>\n",
       "      <td>...</td>\n",
       "      <td>...</td>\n",
       "      <td>...</td>\n",
       "      <td>...</td>\n",
       "      <td>...</td>\n",
       "      <td>...</td>\n",
       "      <td>...</td>\n",
       "      <td>...</td>\n",
       "      <td>...</td>\n",
       "    </tr>\n",
       "    <tr>\n",
       "      <th>1380</th>\n",
       "      <td>74</td>\n",
       "      <td>MNG</td>\n",
       "      <td>0</td>\n",
       "      <td>1</td>\n",
       "      <td>0</td>\n",
       "      <td>1</td>\n",
       "      <td>2024</td>\n",
       "      <td>55</td>\n",
       "      <td>0</td>\n",
       "    </tr>\n",
       "    <tr>\n",
       "      <th>1384</th>\n",
       "      <td>80</td>\n",
       "      <td>GRD</td>\n",
       "      <td>0</td>\n",
       "      <td>0</td>\n",
       "      <td>2</td>\n",
       "      <td>2</td>\n",
       "      <td>2024</td>\n",
       "      <td>76</td>\n",
       "      <td>0</td>\n",
       "    </tr>\n",
       "    <tr>\n",
       "      <th>1385</th>\n",
       "      <td>80</td>\n",
       "      <td>MYS</td>\n",
       "      <td>0</td>\n",
       "      <td>0</td>\n",
       "      <td>2</td>\n",
       "      <td>2</td>\n",
       "      <td>2024</td>\n",
       "      <td>55</td>\n",
       "      <td>0</td>\n",
       "    </tr>\n",
       "    <tr>\n",
       "      <th>1386</th>\n",
       "      <td>80</td>\n",
       "      <td>PRI</td>\n",
       "      <td>0</td>\n",
       "      <td>0</td>\n",
       "      <td>2</td>\n",
       "      <td>2</td>\n",
       "      <td>2024</td>\n",
       "      <td>63</td>\n",
       "      <td>0</td>\n",
       "    </tr>\n",
       "    <tr>\n",
       "      <th>1393</th>\n",
       "      <td>84</td>\n",
       "      <td>ZMB</td>\n",
       "      <td>0</td>\n",
       "      <td>0</td>\n",
       "      <td>1</td>\n",
       "      <td>1</td>\n",
       "      <td>2024</td>\n",
       "      <td>19</td>\n",
       "      <td>0</td>\n",
       "    </tr>\n",
       "  </tbody>\n",
       "</table>\n",
       "<p>391 rows × 9 columns</p>\n",
       "</div>"
      ]
     },
     "execution_count": 87,
     "metadata": {},
     "output_type": "execute_result"
    }
   ],
   "execution_count": 87
  },
  {
   "metadata": {
    "ExecuteTime": {
     "end_time": "2025-01-26T16:02:34.288744Z",
     "start_time": "2025-01-26T16:02:34.264538Z"
    }
   },
   "cell_type": "code",
   "source": [
    "import pandas as pd\n",
    "\n",
    "# 读取 CSV 文件\n",
    "gold_df = pd.read_csv(\"Output/2024_Gold_lasso.csv\")\n",
    "total_df = pd.read_csv(\"Output/2024_Total_lasso.csv\")\n",
    "tmp_df = pd.read_csv(\"2024_True.csv\")\n",
    "\n",
    "# 合并 Gold 和 Total 数据\n",
    "merged_df = pd.merge(gold_df, total_df, on='NOC', suffixes=('_Gold', '_Total'))\n",
    "\n",
    "# 合并 2024_True.csv 和 merged_df\n",
    "final_df = pd.merge(tmp_df, merged_df, on='NOC', how='left')\n",
    "\n",
    "# 删除未能合并的行\n",
    "final_df = final_df.dropna(subset=['Predicted_Gold'])\n",
    "\n",
    "# 输出未能找到的 NOC\n",
    "missing_nocs = tmp_df[~tmp_df['NOC'].isin(final_df['NOC'])]['NOC'].unique()\n",
    "if len(missing_nocs) > 0:\n",
    "    print(\"以下 NOC 找不到对应的预测值，已被删除：\")\n",
    "    print(missing_nocs)\n",
    "\n",
    "# 保存最终结果到新的 CSV 文件\n",
    "final_df.to_csv('final_output.csv', index=False)\n",
    "\n",
    "# 输出结果确认\n",
    "print(\"最终结果已保存到 'final_output.csv'\")"
   ],
   "id": "54d16de3645d0728",
   "outputs": [
    {
     "name": "stdout",
     "output_type": "stream",
     "text": [
      "以下 NOC 找不到对应的预测值，已被删除：\n",
      "['AIN' 'ANZ' 'CRT' 'EOR' 'EUN' 'KOS' 'LBN' 'MAL' 'NBO' 'NFL' 'RHO' 'ROC'\n",
      " 'ROT' 'SAA' 'SSD' 'UAR' 'UNK' 'WIF' 'YAR' 'YMD']\n",
      "最终结果已保存到 'final_output.csv'\n"
     ]
    }
   ],
   "execution_count": 91
  }
 ],
 "metadata": {
  "kernelspec": {
   "name": "python3",
   "language": "python",
   "display_name": "Python 3 (ipykernel)"
  }
 },
 "nbformat": 5,
 "nbformat_minor": 9
}
