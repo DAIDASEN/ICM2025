{
 "cells": [
  {
   "metadata": {
    "ExecuteTime": {
     "end_time": "2025-01-25T17:16:05.784268Z",
     "start_time": "2025-01-25T17:16:05.780249Z"
    }
   },
   "cell_type": "code",
   "source": [
    "import numpy as np\n",
    "import pycountry\n",
    "import pandas as pd\n",
    "import json"
   ],
   "id": "280fc9598324e07c",
   "outputs": [],
   "execution_count": 45
  },
  {
   "metadata": {
    "ExecuteTime": {
     "end_time": "2025-01-25T17:58:07.227450Z",
     "start_time": "2025-01-25T17:58:07.218398Z"
    }
   },
   "cell_type": "code",
   "source": [
    "df = pd.read_csv('Final_table.csv')\n",
    "with open(\"athlete_count.json\", 'r') as json_file:\n",
    "    find = json.load(json_file)"
   ],
   "id": "fa73a03017d43d9",
   "outputs": [],
   "execution_count": 76
  },
  {
   "metadata": {
    "ExecuteTime": {
     "end_time": "2025-01-25T17:28:40.665398Z",
     "start_time": "2025-01-25T17:28:40.657194Z"
    }
   },
   "cell_type": "code",
   "source": "",
   "id": "43579e4c672afd24",
   "outputs": [
    {
     "ename": "IndentationError",
     "evalue": "expected an indented block after 'except' statement on line 40 (1639598447.py, line 42)",
     "output_type": "error",
     "traceback": [
      "\u001B[1;36m  Cell \u001B[1;32mIn[60], line 42\u001B[1;36m\u001B[0m\n\u001B[1;33m    def search_rows(df, year, noc_code):\u001B[0m\n\u001B[1;37m                                        ^\u001B[0m\n\u001B[1;31mIndentationError\u001B[0m\u001B[1;31m:\u001B[0m expected an indented block after 'except' statement on line 40\n"
     ]
    }
   ],
   "execution_count": 60
  },
  {
   "metadata": {
    "ExecuteTime": {
     "end_time": "2025-01-25T17:58:22.622671Z",
     "start_time": "2025-01-25T17:58:22.617636Z"
    }
   },
   "cell_type": "code",
   "source": [
    "# df['Participants'] = np.nan\n",
    "mapp = noc_to_ioc = {\n",
    "  'SAU': 'KSA',\n",
    "  'VGB': 'IVB',\n",
    "  'HTI': 'HAI',\n",
    "  'TGO': 'TOG',\n",
    "  'LKA': 'SRI',\n",
    "  'GRD': 'GRN',\n",
    "  'SVN': 'SLO',\n",
    "  'DEU': 'GER',\n",
    "  'CHL': 'CHI',\n",
    "  'NGA': 'NGR',\n",
    "  'PRY': 'PAR',\n",
    "  'GTM': 'GUA',\n",
    "  'DNK': 'DEN',\n",
    "  'TON': 'TGA',\n",
    "  'BMU': 'BER',\n",
    "  'ZMB': 'ZAM',\n",
    "  'IDN': 'INA',\n",
    "  'BFA': 'BUR',\n",
    "  'ZWE': 'ZIM',\n",
    "  'GRC': 'GRE',\n",
    "  'TZA': 'TAN',\n",
    "  'HRV': 'CRO',\n",
    "  'MYS': 'MAS',\n",
    "  'ARE': 'UAE',\n",
    "  'CRI': 'CRC',\n",
    "  'FJI': 'FIJ',\n",
    "  'BGR': 'BUL',\n",
    "  'KWT': 'KUW',\n",
    "  'PHL': 'PHI',\n",
    "  'ZAF': 'RSA',\n",
    "  'WSM': 'SAM',\n",
    "  'IRN': 'IRI',\n",
    "  'BHR': 'BRN',\n",
    "  'TWN': 'TPE',\n",
    "  'CHE': 'SUI',\n",
    "  'URY': 'URU',\n",
    "  'SDN': 'SUD',\n",
    "  'NLD': 'NED',\n",
    "  'PRT': 'POR',\n",
    "  'PRI': 'PUR',\n",
    "  'BHS': 'BAH',\n",
    "  'BWA': 'BOT',\n",
    "  'NER': 'NIG',\n",
    "  'LVA': 'LAT',\n",
    "  'MUS': 'MRI',\n",
    "  'BRB': 'BAR',\n",
    "  'MNG': 'MGL',\n",
    "  'DZA': 'ALG',\n",
    "  'DDR': 'GDR'\n",
    "}"
   ],
   "id": "73583d740fd3099d",
   "outputs": [],
   "execution_count": 79
  },
  {
   "metadata": {
    "ExecuteTime": {
     "end_time": "2025-01-25T17:58:25.281065Z",
     "start_time": "2025-01-25T17:58:24.842684Z"
    }
   },
   "cell_type": "code",
   "source": [
    "cnt = 0\n",
    "miss_noc = []\n",
    "for i in range(df.shape[0]):\n",
    "    row = df.iloc[i]\n",
    "    noc = row['NOC']\n",
    "    year = row['Year']\n",
    "    year = str(year)\n",
    "    if noc in find:\n",
    "        if year in find[noc]:\n",
    "            df.loc[i, ['Participants']] = find[noc][year]\n",
    "            continue\n",
    "        else:\n",
    "            continue\n",
    "    if noc in mapp:\n",
    "        noc = mapp[noc]\n",
    "    else:\n",
    "        print(noc,\"!!!\")\n",
    "        continue\n",
    "    if noc in find:\n",
    "        if year in find[noc]:\n",
    "            df.loc[i, ['Participants']] = find[noc][year]\n",
    "        else:\n",
    "            # continue\n",
    "            print(f\"{noc} do not have {year}\")\n",
    "            cnt += 1\n",
    "    else:\n",
    "        # cnt+=1\n",
    "        miss_noc.append(noc)\n",
    "        print(f\"{noc} do not find\")\n",
    "print(cnt)"
   ],
   "id": "d3fd23b56714fcd",
   "outputs": [
    {
     "name": "stdout",
     "output_type": "stream",
     "text": [
      "GER do not have 1968\n",
      "GER do not have 1972\n",
      "GER do not have 1976\n",
      "GER do not have 1984\n",
      "GER do not have 1988\n",
      "5\n"
     ]
    }
   ],
   "execution_count": 80
  },
  {
   "metadata": {
    "ExecuteTime": {
     "end_time": "2025-01-25T17:59:42.149912Z",
     "start_time": "2025-01-25T17:59:42.136334Z"
    }
   },
   "cell_type": "code",
   "source": "df.to_csv('Final_table.csv', index=False)",
   "id": "8ec6c1cc8718d471",
   "outputs": [],
   "execution_count": 82
  }
 ],
 "metadata": {
  "kernelspec": {
   "name": "python3",
   "language": "python",
   "display_name": "Python 3 (ipykernel)"
  }
 },
 "nbformat": 5,
 "nbformat_minor": 9
}
