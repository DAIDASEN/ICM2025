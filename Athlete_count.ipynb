{
 "cells": [
  {
   "metadata": {
    "ExecuteTime": {
     "end_time": "2025-01-26T11:53:38.553702Z",
     "start_time": "2025-01-26T11:53:33.540995Z"
    }
   },
   "cell_type": "code",
   "source": [
    "import numpy as np\n",
    "import pandas as pd\n",
    "import json\n",
    "df = pd.read_csv(\"2025_Problem_C_Data/summerOly_athletes.csv\")\n",
    "count = {}\n",
    "for i in range(df.shape[0]):\n",
    "    row = df.iloc[i]\n",
    "    noc = row['NOC']\n",
    "    year = row['Year']\n",
    "    year = int(year)\n",
    "    if noc in count:\n",
    "        if year in count[noc]:\n",
    "            count[noc][year] += 1\n",
    "        else:\n",
    "            count[noc][year] = 1\n",
    "    else:\n",
    "        count[noc] = []\n",
    "        count[noc][year] = 1\n",
    "#\n",
    "# with open(\"athlete_count.json\", \"w\", encoding=\"utf-8\") as json_file:\n",
    "#     json.dump(count, json_file, indent=4)"
   ],
   "id": "6e17559a6eceea3",
   "outputs": [],
   "execution_count": 2
  },
  {
   "metadata": {
    "ExecuteTime": {
     "end_time": "2025-01-26T13:08:24.452463Z",
     "start_time": "2025-01-26T13:08:24.138464Z"
    }
   },
   "cell_type": "code",
   "source": [
    "import pandas as pd\n",
    "\n",
    "# 假设数据存储在 'data.csv' 文件中\n",
    "# 读取CSV文件\n",
    "df = pd.read_csv(\"2025_Problem_C_Data/summerOly_athletes.csv\")\n",
    "\n",
    "# 添加一列用于统计奖牌数量\n",
    "df['Medal'] = df['Medal'].fillna('No medal')\n",
    "\n",
    "# 统计每个国家每年各类奖牌的数量\n",
    "medal_counts = df.groupby(['NOC', 'Year', 'Medal']).size().unstack(fill_value=0)\n",
    "\n",
    "# 重命名列\n",
    "medal_counts.columns.name = None\n",
    "medal_counts = medal_counts.rename(columns={\n",
    "    'Gold': 'Gold',\n",
    "    'Silver': 'Silver',\n",
    "    'Bronze': 'Bronze',\n",
    "    'No medal': 'No medal'\n",
    "})\n",
    "\n",
    "# 计算每个国家每年参与的运动员人数\n",
    "participants = df.groupby(['NOC', 'Year']).size().reset_index(name='Participants')\n",
    "\n",
    "# 计算大项和小项的数量\n",
    "events_counts = df.groupby(['NOC', 'Year', 'Sport']).size().reset_index(name='Events')\n",
    "events_counts = events_counts.groupby(['NOC', 'Year']).size().reset_index(name='Unique Sports')\n",
    "\n",
    "# 合并数据\n",
    "final_df = medal_counts.reset_index().merge(participants, on=['NOC', 'Year'], how='left')\n",
    "final_df = final_df.merge(events_counts, on=['NOC', 'Year'], how='left')\n",
    "\n",
    "# 重命名列\n",
    "final_df = final_df.rename(columns={'Unique Sports': 'Events'})\n",
    "\n",
    "# 填充 NaN 值为 0\n",
    "final_df.fillna(0, inplace=True)\n",
    "\n",
    "# 输出结果到CSV文件\n",
    "final_df.to_csv('final_output.csv', index=False)\n",
    "\n",
    "# 打印最终的 DataFrame\n",
    "final_df"
   ],
   "id": "818df941f99c7219",
   "outputs": [
    {
     "name": "stdout",
     "output_type": "stream",
     "text": [
      "      NOC  Year  Bronze  Gold  No medal  Silver  Participants  Events\n",
      "0     AFG  1936       0     0        16       0            16       2\n",
      "1     AFG  1948       0     0        25       0            25       2\n",
      "2     AFG  1956       0     0        12       0            12       1\n",
      "3     AFG  1960       0     0        16       0            16       2\n",
      "4     AFG  1964       0     0         8       0             8       1\n",
      "...   ...   ...     ...   ...       ...     ...           ...     ...\n",
      "3217  ZIM  2008       0     1        12       3            16       6\n",
      "3218  ZIM  2012       0     0         9       0             9       4\n",
      "3219  ZIM  2016       0     0        31       0            31       7\n",
      "3220  ZIM  2020       0     0         5       0             5       4\n",
      "3221  ZIM  2024       0     0         7       0             7       3\n",
      "\n",
      "[3222 rows x 8 columns]\n"
     ]
    }
   ],
   "execution_count": 18
  },
  {
   "metadata": {},
   "cell_type": "markdown",
   "source": "",
   "id": "f5f0608aa60f73e9"
  },
  {
   "metadata": {
    "ExecuteTime": {
     "end_time": "2025-01-26T13:20:17.758242Z",
     "start_time": "2025-01-26T13:20:17.736330Z"
    }
   },
   "cell_type": "code",
   "source": [
    "import pandas as pd\n",
    "import pycountry\n",
    "\n",
    "# 东道主数据\n",
    "host_data = {\n",
    "    1896: \"Greece\",\n",
    "    1900: \"France\",\n",
    "    1904: \"United States\",\n",
    "    1908: \"Great Britain\",\n",
    "    1912: \"Sweden\",\n",
    "    1920: \"Belgium\",\n",
    "    1924: \"France\",\n",
    "    1928: \"Netherlands\",\n",
    "    1932: \"United States\",\n",
    "    1936: \"Germany\",\n",
    "    1948: \"Great Britain\",\n",
    "    1952: \"Finland\",\n",
    "    1956: \"Australia\",\n",
    "    1960: \"Italy\",\n",
    "    1964: \"Japan\",\n",
    "    1968: \"Mexico\",\n",
    "    1972: \"West Germany\",\n",
    "    1976: \"Canada\",\n",
    "    1980: \"Soviet Union\",\n",
    "    1984: \"United States\",\n",
    "    1988: \"South Korea\",\n",
    "    1992: \"Spain\",\n",
    "    1996: \"United States\",\n",
    "    2000: \"Australia\",\n",
    "    2004: \"Greece\",\n",
    "    2008: \"China\",\n",
    "    2012: \"Great Britain\",\n",
    "    2016: \"Brazil\",\n",
    "    2020: \"Japan\",\n",
    "    2024: \"France\",\n",
    "    2028: \"United States\",\n",
    "    2032: \"Australia\"\n",
    "}\n",
    "\n",
    "# 创建东道主的ISO Alpha-3编码字典\n",
    "host_iso = {}\n",
    "for year, country in host_data.items():\n",
    "    try:\n",
    "        if  country == \"Great Britain\":\n",
    "            iso_code = \"GBR\"\n",
    "        elif country == \"Soviet Union\":\n",
    "            iso_code = \"URS\"\n",
    "        # 获取国家的ISO Alpha-3编码\n",
    "        elif country == \"West Germany\":\n",
    "            iso_code = \"FRG\"\n",
    "        else:\n",
    "            iso_code = pycountry.countries.lookup(country).alpha_3\n",
    "            host_iso[year] = iso_code\n",
    "    except LookupError:\n",
    "        # 处理查找不到国家的情况\n",
    "        print(f\"Country not found: {country}\")\n",
    "\n",
    "# 假设 final_df 是之前的汇总 DataFrame\n",
    "# 现在添加 is_host 列\n",
    "final_df['is_host'] = final_df.apply(\n",
    "    lambda row: 1 if host_iso.get(row['Year']) == row['NOC'] else 0, axis=1\n",
    ")\n",
    "\n",
    "# 输出结果到CSV文件\n",
    "final_df.to_csv('final_output_with_hosts.csv', index=False)\n",
    "\n",
    "# 打印最终的 DataFrame\n",
    "# print(final_df)"
   ],
   "id": "354889de765a502e",
   "outputs": [],
   "execution_count": 21
  },
  {
   "metadata": {
    "ExecuteTime": {
     "end_time": "2025-01-26T13:38:12.631375Z",
     "start_time": "2025-01-26T13:38:10.041705Z"
    }
   },
   "cell_type": "code",
   "source": [
    "import pandas as pd\n",
    "\n",
    "# 读取现有的CSV文件\n",
    "df = pd.read_csv('final_output_with_hosts.csv')\n",
    "\n",
    "# 创建年份范围\n",
    "years = list(range(1896, 2025, 4))\n",
    "\n",
    "# 创建一个新的 DataFrame 用于存储补全后的数据\n",
    "complete_data = []\n",
    "\n",
    "# 获取所有国家的 NOC 列表\n",
    "nocs = df['NOC'].unique()\n",
    "\n",
    "# 为每个国家补全年份记录\n",
    "for noc in nocs:\n",
    "    for year in years:\n",
    "        # 检查该国家在该年份是否有记录\n",
    "        if ((df['NOC'] == noc) & (df['Year'] == year)).any():\n",
    "            # 如果有记录，则获取该记录\n",
    "            record = df[(df['NOC'] == noc) & (df['Year'] == year)].iloc[0]\n",
    "            complete_data.append(record)\n",
    "        else:\n",
    "            # 如果没有记录，则创建一行全为0的记录\n",
    "            complete_data.append([noc, year, 0, 0, 0, 0, 0, 0, 0])\n",
    "\n",
    "# 创建新的 DataFrame\n",
    "complete_df = pd.DataFrame(complete_data, columns=df.columns)\n",
    "\n",
    "# 输出结果到新的CSV文件\n",
    "\n",
    "\n",
    "# 打印最终的 DataFrame\n",
    "print(complete_df)"
   ],
   "id": "b0b7af659590fb42",
   "outputs": [
    {
     "name": "stdout",
     "output_type": "stream",
     "text": [
      "      NOC  Year  Bronze  Gold  No medal  Silver  Participants  Events  is_host\n",
      "0     AFG  1896       0     0         0       0             0       0        0\n",
      "1     AFG  1900       0     0         0       0             0       0        0\n",
      "2     AFG  1904       0     0         0       0             0       0        0\n",
      "3     AFG  1908       0     0         0       0             0       0        0\n",
      "4     AFG  1912       0     0         0       0             0       0        0\n",
      "...   ...   ...     ...   ...       ...     ...           ...     ...      ...\n",
      "7717  ZIM  2008       0     1        12       3            16       6        0\n",
      "7718  ZIM  2012       0     0         9       0             9       4        0\n",
      "7719  ZIM  2016       0     0        31       0            31       7        0\n",
      "7720  ZIM  2020       0     0         5       0             5       4        0\n",
      "7721  ZIM  2024       0     0         7       0             7       3        0\n",
      "\n",
      "[7722 rows x 9 columns]\n"
     ]
    }
   ],
   "execution_count": 27
  },
  {
   "metadata": {
    "ExecuteTime": {
     "end_time": "2025-01-26T13:38:12.723768Z",
     "start_time": "2025-01-26T13:38:12.710417Z"
    }
   },
   "cell_type": "code",
   "source": [
    "complete_df = complete_df.drop(columns=['No medal'])\n",
    "complete_df['total'] = complete_df['Gold'] + complete_df['Silver'] + complete_df['Bronze']\n",
    "complete_df.to_csv('complete_output.csv', index=False)"
   ],
   "id": "7ffc1078cd85788a",
   "outputs": [],
   "execution_count": 28
  },
  {
   "metadata": {
    "ExecuteTime": {
     "end_time": "2025-01-26T11:56:19.347247Z",
     "start_time": "2025-01-26T11:56:19.336888Z"
    }
   },
   "cell_type": "code",
   "source": [
    "count =  {key: count[key] for key in sorted(count)}\n",
    "for key in count:\n",
    "    count[key] = {key: count[key] for key in sorted(count)}\n"
   ],
   "id": "428cd215585be7ec",
   "outputs": [],
   "execution_count": 4
  },
  {
   "metadata": {
    "ExecuteTime": {
     "end_time": "2025-01-26T12:10:14.090307Z",
     "start_time": "2025-01-26T12:10:14.076836Z"
    }
   },
   "cell_type": "code",
   "source": "sorted_inner_data = {country: dict(sorted(years.items())) for country, years in count.items()}",
   "id": "fb8e5b9d35bd2f48",
   "outputs": [],
   "execution_count": 6
  },
  {
   "metadata": {
    "ExecuteTime": {
     "end_time": "2025-01-26T12:12:00.570646Z",
     "start_time": "2025-01-26T12:12:00.563760Z"
    }
   },
   "cell_type": "code",
   "source": "years_range = range(1896, 2025, 4)",
   "id": "8411eb2f44bec2f9",
   "outputs": [],
   "execution_count": 9
  },
  {
   "metadata": {
    "ExecuteTime": {
     "end_time": "2025-01-26T12:12:12.551242Z",
     "start_time": "2025-01-26T12:12:12.542737Z"
    }
   },
   "cell_type": "code",
   "source": [
    "complete_data = {}\n",
    "for country, years in sorted_inner_data.items():\n",
    "    complete_years = {year: years.get(year, 0) for year in years_range}\n",
    "    complete_data[country] = complete_years"
   ],
   "id": "20194ac613bfb846",
   "outputs": [],
   "execution_count": 11
  },
  {
   "metadata": {
    "ExecuteTime": {
     "end_time": "2025-01-26T12:12:20.137224Z",
     "start_time": "2025-01-26T12:12:20.123333Z"
    }
   },
   "cell_type": "code",
   "source": "complete_data = pd.DataFrame(complete_data)",
   "id": "c7532015f5d22314",
   "outputs": [],
   "execution_count": 13
  },
  {
   "metadata": {
    "ExecuteTime": {
     "end_time": "2025-01-26T12:59:46.940903Z",
     "start_time": "2025-01-26T12:59:46.934162Z"
    }
   },
   "cell_type": "code",
   "source": [
    "column_sums = complete_data.sum()\n",
    "\n",
    "# 检查每列是否有0\n",
    "has_zero = (column_sums == 0).any()\n",
    "# 输出结果\n",
    "print(\"每列的和：\")\n",
    "print(column_sums)\n",
    "print(\"\\n有列的和为0:\", has_zero)"
   ],
   "id": "fae27aed2bb2b9a8",
   "outputs": [
    {
     "name": "stdout",
     "output_type": "stream",
     "text": [
      "每列的和：\n",
      "AFG     138\n",
      "AHO      74\n",
      "AIN      46\n",
      "ALB      82\n",
      "ALG     639\n",
      "       ... \n",
      "YEM      42\n",
      "YMD       5\n",
      "YUG    2046\n",
      "ZAM     246\n",
      "ZIM     321\n",
      "Length: 234, dtype: int64\n",
      "\n",
      "有列的和为0: True\n"
     ]
    }
   ],
   "execution_count": 16
  },
  {
   "metadata": {
    "ExecuteTime": {
     "end_time": "2025-01-26T15:16:54.678551Z",
     "start_time": "2025-01-26T15:16:41.079265Z"
    }
   },
   "cell_type": "code",
   "source": [
    "import pandas as pd\n",
    "\n",
    "# 读取原始数据\n",
    "data = pd.read_csv('2025_Problem_C_Data/summerOly_athletes.csv')\n",
    "\n",
    "# 创建一个新的DataFrame用于汇总\n",
    "summary = data.groupby(['NOC', 'Year', 'Sport', 'Event']).agg(\n",
    "    Gold=('Medal', lambda x: (x == 'Gold').sum()),\n",
    "    Silver=('Medal', lambda x: (x == 'Silver').sum()),\n",
    "    Bronze=('Medal', lambda x: (x == 'Bronze').sum())\n",
    ").reset_index()\n",
    "\n",
    "# 计算每个国家每年获得的奖牌总数\n",
    "medal_summary = summary.groupby(['NOC', 'Year']).agg(\n",
    "    Gold=('Gold', 'sum'),\n",
    "    Silver=('Silver', 'sum'),\n",
    "    Bronze=('Bronze', 'sum'),\n",
    "    Participants=('Event', 'nunique'),\n",
    "    Sports=('Sport', 'nunique')\n",
    ").reset_index()\n",
    "\n",
    "# 保存结果到新的CSV文件\n",
    "medal_summary.to_csv('summary.csv', index=False)"
   ],
   "id": "2d913bc117250f9b",
   "outputs": [],
   "execution_count": 34
  },
  {
   "metadata": {
    "ExecuteTime": {
     "end_time": "2025-01-26T15:20:36.668091Z",
     "start_time": "2025-01-26T15:20:35.670835Z"
    }
   },
   "cell_type": "code",
   "source": [
    "import csv\n",
    "import json\n",
    "\n",
    "# 读取CSV文件并建立 Team 到 NOC 的映射\n",
    "team_to_noc = {}\n",
    "\n",
    "with open(\"2025_Problem_C_Data/summerOly_athletes.csv\", newline='') as csvfile:\n",
    "    reader = csv.DictReader(csvfile)\n",
    "    for entry in reader:\n",
    "        team = entry['Team']\n",
    "        noc = entry['NOC']\n",
    "\n",
    "        # 只在团队还未被映射的情况下进行映射\n",
    "        if team not in team_to_noc:\n",
    "            team_to_noc[team] = noc\n",
    "\n",
    "# 将映射保存到JSON文件\n",
    "with open('mapping.json', 'w') as jsonfile:\n",
    "    json.dump(team_to_noc, jsonfile, ensure_ascii=False, indent=4)\n",
    "\n",
    "print(\"Team to NOC mapping has been saved to mapping.json successfully.\")"
   ],
   "id": "c44e569f61067f06",
   "outputs": [
    {
     "name": "stdout",
     "output_type": "stream",
     "text": [
      "Team to NOC mapping has been saved to mapping.json successfully.\n"
     ]
    }
   ],
   "execution_count": 35
  },
  {
   "metadata": {
    "ExecuteTime": {
     "end_time": "2025-01-26T15:37:17.062475Z",
     "start_time": "2025-01-26T15:37:17.054260Z"
    }
   },
   "cell_type": "code",
   "source": [
    "import pandas as pd\n",
    "df = pd.read_csv('2025_Problem_C_Data/complete_output.csv')\n",
    "medal_table = pd.read_csv('2025_Problem_C_Data/summerOly_medal_counts.csv')\n",
    "with open('mapping.json', 'r', encoding='utf-8') as jsonfile:\n",
    "    team_to_noc = json.load(jsonfile)"
   ],
   "id": "3e8e801b6b80b75a",
   "outputs": [],
   "execution_count": 60
  },
  {
   "metadata": {
    "ExecuteTime": {
     "end_time": "2025-01-26T15:37:21.030477Z",
     "start_time": "2025-01-26T15:37:21.026452Z"
    }
   },
   "cell_type": "code",
   "source": [
    "# 要去除的 NOC 值\n",
    "nocs_to_remove = ['ROC', 'British West Indies']\n",
    "\n",
    "# 找出无法转换的 NOC 值并去除指定的值\n",
    "unmapped_nocs = medal_table[~medal_table['NOC'].isin(team_to_noc.keys()) & ~medal_table['NOC'].isin(nocs_to_remove)]['NOC']\n",
    "\n",
    "# 去重并转换为列表\n",
    "unique_unmapped_nocs = unmapped_nocs.unique().tolist()\n",
    "\n",
    "# 打印无法转换的值\n",
    "print(\"无法转换的 NOC 值（去重后，排除 ROC 和 British West Indies）：\", unique_unmapped_nocs)"
   ],
   "id": "eb271db679a918c4",
   "outputs": [
    {
     "name": "stdout",
     "output_type": "stream",
     "text": [
      "无法转换的 NOC 值（去重后，排除 ROC 和 British West Indies）： ['Mixed team', 'Russian Empire', 'Ceylon', 'United Team of Germany', 'Taiwan', 'FR Yugoslavia']\n"
     ]
    }
   ],
   "execution_count": 61
  },
  {
   "metadata": {
    "ExecuteTime": {
     "end_time": "2025-01-26T15:37:25.200868Z",
     "start_time": "2025-01-26T15:37:25.196807Z"
    }
   },
   "cell_type": "code",
   "source": [
    "# 无法转换的值及其对应的替换值\n",
    "unmapped_values = ['Mixed team', 'Russian Empire', 'Ceylon', 'United Team of Germany', 'Taiwan', 'FR Yugoslavia']\n",
    "replacement_values = ['MIX', 'RUS', 'SRI', 'GER', 'TPE', 'YUG']\n",
    "\n",
    "# 创建映射字典\n",
    "replacement_dict = dict(zip(unmapped_values, replacement_values))\n",
    "\n",
    "# 替换 NOC 列中的值\n",
    "medal_table['NOC'] = medal_table['NOC'].replace(replacement_dict)\n",
    "\n",
    "# 打印转换后的 medal_table"
   ],
   "id": "6f426f4a1478440d",
   "outputs": [],
   "execution_count": 63
  },
  {
   "metadata": {
    "ExecuteTime": {
     "end_time": "2025-01-26T15:37:23.535952Z",
     "start_time": "2025-01-26T15:37:23.529195Z"
    }
   },
   "cell_type": "code",
   "source": [
    "# 使用映射替换 NOC 列\n",
    "medal_table['NOC'] = medal_table['NOC'].map(team_to_noc).fillna(medal_table['NOC'])\n",
    "\n",
    "# 打印转换后的 medal_table\n",
    "print(medal_table)"
   ],
   "id": "a043d64630cf75ba",
   "outputs": [
    {
     "name": "stdout",
     "output_type": "stream",
     "text": [
      "      Rank  NOC  Gold  Silver  Bronze  Total  Year\n",
      "0        1  USA    11       7       2     20  1896\n",
      "1        2  GRE    10      18      19     47  1896\n",
      "2        3  GER     6       5       2     13  1896\n",
      "3        4  FRA     5       4       2     11  1896\n",
      "4        5  GBR     2       3       2      7  1896\n",
      "...    ...  ...   ...     ...     ...    ...   ...\n",
      "1426    84  PER     0       0       1      1  2024\n",
      "1427    84  QAT     0       0       1      1  2024\n",
      "1428    84  SGP     0       0       1      1  2024\n",
      "1429    84  SVK     0       0       1      1  2024\n",
      "1430    84  ZAM     0       0       1      1  2024\n",
      "\n",
      "[1431 rows x 7 columns]\n"
     ]
    }
   ],
   "execution_count": 62
  },
  {
   "metadata": {
    "ExecuteTime": {
     "end_time": "2025-01-26T15:38:27.484865Z",
     "start_time": "2025-01-26T15:38:27.475255Z"
    }
   },
   "cell_type": "code",
   "source": [
    "\n",
    "# 找出所有不是三位数的 NOC 值\n",
    "non_three_digit_nocs = medal_table[medal_table['NOC'].str.len() != 3]['NOC']\n",
    "\n",
    "# 输出结果\n",
    "if non_three_digit_nocs.empty:\n",
    "    print(\"所有 NOC 值都是三位数。\")\n",
    "else:\n",
    "    print(\"以下 NOC 值不是三位数：\")\n",
    "    print(non_three_digit_nocs.tolist())"
   ],
   "id": "6115edc816395525",
   "outputs": [
    {
     "name": "stdout",
     "output_type": "stream",
     "text": [
      "以下 NOC 值不是三位数：\n",
      "['British West Indies']\n"
     ]
    }
   ],
   "execution_count": 66
  },
  {
   "metadata": {
    "ExecuteTime": {
     "end_time": "2025-01-26T15:41:46.335418Z",
     "start_time": "2025-01-26T15:41:46.306281Z"
    }
   },
   "cell_type": "code",
   "source": [
    "complete_data = pd.read_csv('2025_Problem_C_Data/complete_output.csv')\n",
    "merged_data = complete_data.merge(medal_table, on=['NOC', 'Year'], how='left', suffixes=('', '_new'))\n",
    "\n",
    "# 用新的值替换旧的值，在没有新值的情况下保持原值\n",
    "complete_data['Gold'] = merged_data['Gold_new'].combine_first(complete_data['Gold'])\n",
    "complete_data['Silver'] = merged_data['Silver_new'].combine_first(complete_data['Silver'])\n",
    "complete_data['Bronze'] = merged_data['Bronze_new'].combine_first(complete_data['Bronze'])\n",
    "complete_data['Total'] = merged_data['Total_new'].combine_first(complete_data['Total'])\n",
    "\n",
    "# 打印更新后的 complete_data\n",
    "complete_data.to_csv('complete_data.csv', index=False)"
   ],
   "id": "9e711b068072be05",
   "outputs": [],
   "execution_count": 68
  }
 ],
 "metadata": {
  "kernelspec": {
   "name": "python3",
   "language": "python",
   "display_name": "Python 3 (ipykernel)"
  }
 },
 "nbformat": 5,
 "nbformat_minor": 9
}
