{
 "cells": [
  {
   "cell_type": "code",
   "id": "initial_id",
   "metadata": {
    "collapsed": true,
    "ExecuteTime": {
     "end_time": "2025-01-27T05:10:57.703965Z",
     "start_time": "2025-01-27T05:10:35.198810Z"
    }
   },
   "source": [
    "import pandas as pd\n",
    "import numpy as np\n",
    "from sklearn.linear_model import LassoCV\n",
    "from sklearn.preprocessing import StandardScaler\n",
    "from sklearn.pipeline import make_pipeline\n",
    "from sklearn.metrics import mean_absolute_error\n",
    "\n",
    "# 数据加载和预处理\n",
    "def load_and_preprocess(filepath):\n",
    "    df = pd.read_csv(filepath)\n",
    "\n",
    "    # 计算当届总奖牌数\n",
    "    df['Total_Medals'] = df.groupby('Year')['Total'].transform('sum')\n",
    "\n",
    "    # 计算奖牌占比\n",
    "    df['Medal_Pct'] = df['Total'] / df['Total_Medals']\n",
    "    df['Medal_Pct'] = df['Medal_Pct'].fillna(0)  # 处理无奖牌情况\n",
    "\n",
    "    return df\n",
    "\n",
    "# 特征工程\n",
    "def create_features(df):\n",
    "    features = []\n",
    "    years = sorted(df['Year'].unique())\n",
    "\n",
    "    for (noc, year) in df[['NOC', 'Year']].drop_duplicates().values:\n",
    "        # 获取前三届年份\n",
    "        prev_years = [year-12, year-8, year-4]  # 过去三届奥运会年份\n",
    "\n",
    "        # 收集特征\n",
    "        row = {'NOC': noc, 'Year': year}\n",
    "\n",
    "        # 获取当前届主办信息\n",
    "        current_host = df[(df['NOC'] == noc) & (df['Year'] == year)]['is_host'].values\n",
    "        row['is_host_current'] = current_host[0] if len(current_host) > 0 else 0\n",
    "\n",
    "        # 获取前三届数据\n",
    "        for i, pyear in enumerate(prev_years, 1):\n",
    "            prev_data = df[(df['NOC'] == noc) & (df['Year'] == pyear)]\n",
    "\n",
    "            if not prev_data.empty:\n",
    "                for col in ['Gold', 'Silver', 'Bronze', 'Total', 'Participants', 'Events', 'is_host']:\n",
    "                    row[f'{col}_prev{i}'] = prev_data[col].values[0]\n",
    "            else:\n",
    "                for col in ['Gold', 'Silver', 'Bronze', 'Total', 'Participants', 'Events', 'is_host']:\n",
    "                    row[f'{col}_prev{i}'] = 0\n",
    "\n",
    "        # 获取目标变量\n",
    "        current_medal = df[(df['NOC'] == noc) & (df['Year'] == year)]['Medal_Pct'].values\n",
    "        row['Medal_Pct'] = current_medal[0] if len(current_medal) > 0 else 0\n",
    "\n",
    "        features.append(row)\n",
    "\n",
    "    return pd.DataFrame(features)\n",
    "\n",
    "# 主程序\n",
    "def main():\n",
    "    # 数据加载\n",
    "    df = load_and_preprocess('../complete_data.csv')\n",
    "\n",
    "    # 特征工程\n",
    "    feature_df = create_features(df)\n",
    "\n",
    "    # 划分数据集\n",
    "    train_df = feature_df[feature_df['Year'] < 2024]\n",
    "    test_df = feature_df[feature_df['Year'] == 2024]\n",
    "\n",
    "    # 特征/目标分离\n",
    "    X_cols = [col for col in feature_df.columns if col not in ['NOC', 'Year', 'Medal_Pct']]\n",
    "    X_train = train_df[X_cols].fillna(0)\n",
    "    y_train = train_df['Medal_Pct'].fillna(0)\n",
    "    X_test = test_df[X_cols].fillna(0)\n",
    "\n",
    "    # 构建模型\n",
    "    pipeline = make_pipeline(\n",
    "        StandardScaler(),\n",
    "        LassoCV(cv=5, max_iter=10000, random_state=42)\n",
    "    )\n",
    "\n",
    "    # 训练模型\n",
    "    pipeline.fit(X_train, y_train)\n",
    "\n",
    "    # 预测\n",
    "    test_df['Predicted_Pct'] = pipeline.predict(X_test)\n",
    "\n",
    "    # 输出结果\n",
    "    results = test_df[['NOC', 'Year', 'Predicted_Pct']].sort_values('Predicted_Pct', ascending=False)\n",
    "    print(\"2024年奖牌占比预测结果：\")\n",
    "    results.to_csv('2024_predicted_total.csv',index=False)\n",
    "\n",
    "    # 模型评估（使用最近三届验证）\n",
    "    valid_years = [2012, 2016, 2020]\n",
    "    valid_df = feature_df[feature_df['Year'].isin(valid_years)]\n",
    "    X_valid = valid_df[X_cols].fillna(0)\n",
    "    y_valid = valid_df['Medal_Pct'].fillna(0)\n",
    "    y_pred = pipeline.predict(X_valid)\n",
    "    mae = mean_absolute_error(y_valid, y_pred)\n",
    "    print(f\"\\n验证集MAE: {mae:.4f}\")\n",
    "\n",
    "if __name__ == \"__main__\":\n",
    "    main()"
   ],
   "outputs": [
    {
     "name": "stdout",
     "output_type": "stream",
     "text": [
      "2024年奖牌占比预测结果：\n",
      "\n",
      "验证集MAE: 0.0030\n"
     ]
    },
    {
     "name": "stderr",
     "output_type": "stream",
     "text": [
      "C:\\Users\\31670\\AppData\\Local\\Temp\\ipykernel_26008\\2257922611.py:84: SettingWithCopyWarning: \n",
      "A value is trying to be set on a copy of a slice from a DataFrame.\n",
      "Try using .loc[row_indexer,col_indexer] = value instead\n",
      "\n",
      "See the caveats in the documentation: https://pandas.pydata.org/pandas-docs/stable/user_guide/indexing.html#returning-a-view-versus-a-copy\n",
      "  test_df['Predicted_Pct'] = pipeline.predict(X_test)\n"
     ]
    }
   ],
   "execution_count": 3
  },
  {
   "metadata": {
    "ExecuteTime": {
     "end_time": "2025-01-27T05:09:41.336319Z",
     "start_time": "2025-01-27T05:09:40.529333Z"
    }
   },
   "cell_type": "code",
   "source": "results.to_csv('Total_new', index=False)",
   "id": "281b6b0b81317cdf",
   "outputs": [
    {
     "ename": "NameError",
     "evalue": "name 'results' is not defined",
     "output_type": "error",
     "traceback": [
      "\u001B[1;31m---------------------------------------------------------------------------\u001B[0m",
      "\u001B[1;31mNameError\u001B[0m                                 Traceback (most recent call last)",
      "Cell \u001B[1;32mIn[2], line 1\u001B[0m\n\u001B[1;32m----> 1\u001B[0m \u001B[43mresults\u001B[49m\u001B[38;5;241m.\u001B[39mto_csv(\u001B[38;5;124m'\u001B[39m\u001B[38;5;124mTotal_new\u001B[39m\u001B[38;5;124m'\u001B[39m, index\u001B[38;5;241m=\u001B[39m\u001B[38;5;28;01mFalse\u001B[39;00m)\n",
      "\u001B[1;31mNameError\u001B[0m: name 'results' is not defined"
     ]
    }
   ],
   "execution_count": 2
  }
 ],
 "metadata": {
  "kernelspec": {
   "display_name": "Python 3",
   "language": "python",
   "name": "python3"
  },
  "language_info": {
   "codemirror_mode": {
    "name": "ipython",
    "version": 2
   },
   "file_extension": ".py",
   "mimetype": "text/x-python",
   "name": "python",
   "nbconvert_exporter": "python",
   "pygments_lexer": "ipython2",
   "version": "2.7.6"
  }
 },
 "nbformat": 4,
 "nbformat_minor": 5
}
